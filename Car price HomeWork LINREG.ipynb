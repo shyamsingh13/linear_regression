{
 "cells": [
  {
   "cell_type": "code",
   "execution_count": 1,
   "id": "a8904a66",
   "metadata": {},
   "outputs": [],
   "source": [
    "import pandas as pd\n",
    "import numpy as np\n",
    "from sklearn.model_selection import train_test_split\n",
    "from sklearn.linear_model import LinearRegression\n",
    "from sklearn.preprocessing import LabelEncoder\n",
    "import matplotlib.pyplot as plt\n",
    "import seaborn as sns"
   ]
  },
  {
   "cell_type": "code",
   "execution_count": 2,
   "id": "cadf9a40",
   "metadata": {},
   "outputs": [],
   "source": [
    "cp = pd.read_csv(r\"F:\\carreer\\car_price.csv\")"
   ]
  },
  {
   "cell_type": "code",
   "execution_count": 3,
   "id": "c24cf5fd",
   "metadata": {},
   "outputs": [
    {
     "data": {
      "text/plain": [
       "(205, 26)"
      ]
     },
     "execution_count": 3,
     "metadata": {},
     "output_type": "execute_result"
    }
   ],
   "source": [
    "cp.shape"
   ]
  },
  {
   "cell_type": "code",
   "execution_count": 4,
   "id": "79d923d2",
   "metadata": {},
   "outputs": [
    {
     "data": {
      "text/plain": [
       "symboling            0\n",
       "normalized_losses    0\n",
       "Fuel_type            0\n",
       "make                 0\n",
       "num_of_doors         0\n",
       "aspiration           0\n",
       "wheel_base           0\n",
       "engine_location      0\n",
       "drive_wheels         0\n",
       "body_style           0\n",
       "length               0\n",
       "width                0\n",
       "height               0\n",
       "curb_weight          0\n",
       "engine_type          0\n",
       "num_of_cylinders     0\n",
       "engine_size          0\n",
       "fuel_system          0\n",
       "bore                 0\n",
       "stroke               0\n",
       "compression_ratio    0\n",
       "horsepower           0\n",
       "peak_rpm             0\n",
       "city_mpg             0\n",
       "highway_mpg          0\n",
       "price                0\n",
       "dtype: int64"
      ]
     },
     "execution_count": 4,
     "metadata": {},
     "output_type": "execute_result"
    }
   ],
   "source": [
    "cp.isnull().sum()"
   ]
  },
  {
   "cell_type": "code",
   "execution_count": 5,
   "id": "60271756",
   "metadata": {},
   "outputs": [
    {
     "data": {
      "text/html": [
       "<div>\n",
       "<style scoped>\n",
       "    .dataframe tbody tr th:only-of-type {\n",
       "        vertical-align: middle;\n",
       "    }\n",
       "\n",
       "    .dataframe tbody tr th {\n",
       "        vertical-align: top;\n",
       "    }\n",
       "\n",
       "    .dataframe thead th {\n",
       "        text-align: right;\n",
       "    }\n",
       "</style>\n",
       "<table border=\"1\" class=\"dataframe\">\n",
       "  <thead>\n",
       "    <tr style=\"text-align: right;\">\n",
       "      <th></th>\n",
       "      <th>symboling</th>\n",
       "      <th>normalized_losses</th>\n",
       "      <th>Fuel_type</th>\n",
       "      <th>make</th>\n",
       "      <th>num_of_doors</th>\n",
       "      <th>aspiration</th>\n",
       "      <th>wheel_base</th>\n",
       "      <th>engine_location</th>\n",
       "      <th>drive_wheels</th>\n",
       "      <th>body_style</th>\n",
       "      <th>...</th>\n",
       "      <th>engine_size</th>\n",
       "      <th>fuel_system</th>\n",
       "      <th>bore</th>\n",
       "      <th>stroke</th>\n",
       "      <th>compression_ratio</th>\n",
       "      <th>horsepower</th>\n",
       "      <th>peak_rpm</th>\n",
       "      <th>city_mpg</th>\n",
       "      <th>highway_mpg</th>\n",
       "      <th>price</th>\n",
       "    </tr>\n",
       "  </thead>\n",
       "  <tbody>\n",
       "    <tr>\n",
       "      <th>0</th>\n",
       "      <td>3</td>\n",
       "      <td>?</td>\n",
       "      <td>gas</td>\n",
       "      <td>std</td>\n",
       "      <td>two</td>\n",
       "      <td>convertible</td>\n",
       "      <td>rwd</td>\n",
       "      <td>front</td>\n",
       "      <td>88.6</td>\n",
       "      <td>alfa-romero</td>\n",
       "      <td>...</td>\n",
       "      <td>130</td>\n",
       "      <td>mpfi</td>\n",
       "      <td>3.47</td>\n",
       "      <td>2.68</td>\n",
       "      <td>9.0</td>\n",
       "      <td>111</td>\n",
       "      <td>5000</td>\n",
       "      <td>21</td>\n",
       "      <td>27</td>\n",
       "      <td>13495</td>\n",
       "    </tr>\n",
       "    <tr>\n",
       "      <th>1</th>\n",
       "      <td>3</td>\n",
       "      <td>?</td>\n",
       "      <td>gas</td>\n",
       "      <td>std</td>\n",
       "      <td>two</td>\n",
       "      <td>convertible</td>\n",
       "      <td>rwd</td>\n",
       "      <td>front</td>\n",
       "      <td>88.6</td>\n",
       "      <td>alfa-romero</td>\n",
       "      <td>...</td>\n",
       "      <td>130</td>\n",
       "      <td>mpfi</td>\n",
       "      <td>3.47</td>\n",
       "      <td>2.68</td>\n",
       "      <td>9.0</td>\n",
       "      <td>111</td>\n",
       "      <td>5000</td>\n",
       "      <td>21</td>\n",
       "      <td>27</td>\n",
       "      <td>16500</td>\n",
       "    </tr>\n",
       "    <tr>\n",
       "      <th>2</th>\n",
       "      <td>1</td>\n",
       "      <td>?</td>\n",
       "      <td>gas</td>\n",
       "      <td>std</td>\n",
       "      <td>two</td>\n",
       "      <td>hatchback</td>\n",
       "      <td>rwd</td>\n",
       "      <td>front</td>\n",
       "      <td>94.5</td>\n",
       "      <td>alfa-romero</td>\n",
       "      <td>...</td>\n",
       "      <td>152</td>\n",
       "      <td>mpfi</td>\n",
       "      <td>2.68</td>\n",
       "      <td>3.47</td>\n",
       "      <td>9.0</td>\n",
       "      <td>154</td>\n",
       "      <td>5000</td>\n",
       "      <td>19</td>\n",
       "      <td>26</td>\n",
       "      <td>16500</td>\n",
       "    </tr>\n",
       "    <tr>\n",
       "      <th>3</th>\n",
       "      <td>2</td>\n",
       "      <td>164</td>\n",
       "      <td>gas</td>\n",
       "      <td>std</td>\n",
       "      <td>four</td>\n",
       "      <td>sedan</td>\n",
       "      <td>fwd</td>\n",
       "      <td>front</td>\n",
       "      <td>99.8</td>\n",
       "      <td>audi</td>\n",
       "      <td>...</td>\n",
       "      <td>109</td>\n",
       "      <td>mpfi</td>\n",
       "      <td>3.19</td>\n",
       "      <td>3.4</td>\n",
       "      <td>10.0</td>\n",
       "      <td>102</td>\n",
       "      <td>5500</td>\n",
       "      <td>24</td>\n",
       "      <td>30</td>\n",
       "      <td>13950</td>\n",
       "    </tr>\n",
       "    <tr>\n",
       "      <th>4</th>\n",
       "      <td>2</td>\n",
       "      <td>164</td>\n",
       "      <td>gas</td>\n",
       "      <td>std</td>\n",
       "      <td>four</td>\n",
       "      <td>sedan</td>\n",
       "      <td>4wd</td>\n",
       "      <td>front</td>\n",
       "      <td>99.4</td>\n",
       "      <td>audi</td>\n",
       "      <td>...</td>\n",
       "      <td>136</td>\n",
       "      <td>mpfi</td>\n",
       "      <td>3.19</td>\n",
       "      <td>3.4</td>\n",
       "      <td>8.0</td>\n",
       "      <td>115</td>\n",
       "      <td>5500</td>\n",
       "      <td>18</td>\n",
       "      <td>22</td>\n",
       "      <td>17450</td>\n",
       "    </tr>\n",
       "  </tbody>\n",
       "</table>\n",
       "<p>5 rows × 26 columns</p>\n",
       "</div>"
      ],
      "text/plain": [
       "   symboling normalized_losses Fuel_type make num_of_doors   aspiration  \\\n",
       "0          3                 ?       gas  std          two  convertible   \n",
       "1          3                 ?       gas  std          two  convertible   \n",
       "2          1                 ?       gas  std          two    hatchback   \n",
       "3          2               164       gas  std         four        sedan   \n",
       "4          2               164       gas  std         four        sedan   \n",
       "\n",
       "  wheel_base engine_location  drive_wheels   body_style  ...  engine_size  \\\n",
       "0        rwd           front          88.6  alfa-romero  ...          130   \n",
       "1        rwd           front          88.6  alfa-romero  ...          130   \n",
       "2        rwd           front          94.5  alfa-romero  ...          152   \n",
       "3        fwd           front          99.8         audi  ...          109   \n",
       "4        4wd           front          99.4         audi  ...          136   \n",
       "\n",
       "   fuel_system  bore  stroke compression_ratio horsepower  peak_rpm city_mpg  \\\n",
       "0         mpfi  3.47    2.68               9.0        111      5000       21   \n",
       "1         mpfi  3.47    2.68               9.0        111      5000       21   \n",
       "2         mpfi  2.68    3.47               9.0        154      5000       19   \n",
       "3         mpfi  3.19     3.4              10.0        102      5500       24   \n",
       "4         mpfi  3.19     3.4               8.0        115      5500       18   \n",
       "\n",
       "  highway_mpg  price  \n",
       "0          27  13495  \n",
       "1          27  16500  \n",
       "2          26  16500  \n",
       "3          30  13950  \n",
       "4          22  17450  \n",
       "\n",
       "[5 rows x 26 columns]"
      ]
     },
     "execution_count": 5,
     "metadata": {},
     "output_type": "execute_result"
    }
   ],
   "source": [
    "cp.head()"
   ]
  },
  {
   "cell_type": "code",
   "execution_count": 6,
   "id": "441b48c0",
   "metadata": {},
   "outputs": [],
   "source": [
    "# here question marks are their in the data therefore it is consider as the null\n",
    "cp = cp.replace({\"?\":np.nan})  # running replace function on entire data frame\n",
    "        # so after this code the null which not showing before will so all the null values in the data\n",
    "        # we already know how to handle the null"
   ]
  },
  {
   "cell_type": "code",
   "execution_count": 7,
   "id": "1d8e6128",
   "metadata": {},
   "outputs": [
    {
     "data": {
      "text/plain": [
       "normalized_losses    41\n",
       "num_of_doors          2\n",
       "bore                  4\n",
       "stroke                4\n",
       "horsepower            2\n",
       "peak_rpm              2\n",
       "price                 4\n",
       "dtype: int64"
      ]
     },
     "execution_count": 7,
     "metadata": {},
     "output_type": "execute_result"
    }
   ],
   "source": [
    "cp.isnull().sum()[cp.isnull().sum() > 0] # check the nulls only function"
   ]
  },
  {
   "cell_type": "code",
   "execution_count": 8,
   "id": "fc8ad1c7",
   "metadata": {},
   "outputs": [
    {
     "name": "stdout",
     "output_type": "stream",
     "text": [
      "<class 'pandas.core.frame.DataFrame'>\n",
      "RangeIndex: 205 entries, 0 to 204\n",
      "Data columns (total 26 columns):\n",
      " #   Column             Non-Null Count  Dtype  \n",
      "---  ------             --------------  -----  \n",
      " 0   symboling          205 non-null    int64  \n",
      " 1   normalized_losses  164 non-null    object \n",
      " 2   Fuel_type          205 non-null    object \n",
      " 3   make               205 non-null    object \n",
      " 4   num_of_doors       203 non-null    object \n",
      " 5   aspiration         205 non-null    object \n",
      " 6   wheel_base         205 non-null    object \n",
      " 7   engine_location    205 non-null    object \n",
      " 8   drive_wheels       205 non-null    float64\n",
      " 9   body_style         205 non-null    object \n",
      " 10  length             205 non-null    float64\n",
      " 11  width              205 non-null    float64\n",
      " 12  height             205 non-null    float64\n",
      " 13  curb_weight        205 non-null    int64  \n",
      " 14  engine_type        205 non-null    object \n",
      " 15  num_of_cylinders   205 non-null    object \n",
      " 16  engine_size        205 non-null    int64  \n",
      " 17  fuel_system        205 non-null    object \n",
      " 18  bore               201 non-null    object \n",
      " 19  stroke             201 non-null    object \n",
      " 20  compression_ratio  205 non-null    float64\n",
      " 21  horsepower         203 non-null    object \n",
      " 22  peak_rpm           203 non-null    object \n",
      " 23  city_mpg           205 non-null    int64  \n",
      " 24  highway_mpg        205 non-null    int64  \n",
      " 25  price              201 non-null    object \n",
      "dtypes: float64(5), int64(5), object(16)\n",
      "memory usage: 41.8+ KB\n"
     ]
    }
   ],
   "source": [
    "# cp.normalized_losses.mean() \n",
    "# not able find mean # ??err msg unssuported operand type eighter int or str\n",
    "# so solution is after cp.info() their we get to know that type is of object type so we are not able to find mean\n",
    "# here we to do is astype('float')\n",
    "cp.info()"
   ]
  },
  {
   "cell_type": "code",
   "execution_count": 9,
   "id": "9172566a",
   "metadata": {},
   "outputs": [],
   "source": [
    "# So converting it in float by using astype for all the nulls\n",
    "cp.normalized_losses = cp.normalized_losses.astype('float')\n",
    "cp.bore = cp.bore.astype('float')\n",
    "cp.stroke = cp.stroke.astype('float')\n",
    "cp.horsepower = cp.horsepower.astype('float')\n",
    "cp.peak_rpm = cp.peak_rpm.astype('float')\n",
    "cp.price = cp.price.astype('float')"
   ]
  },
  {
   "cell_type": "markdown",
   "id": "9cff514a",
   "metadata": {},
   "source": [
    "# Important"
   ]
  },
  {
   "cell_type": "code",
   "execution_count": 10,
   "id": "91b1f45d",
   "metadata": {},
   "outputs": [],
   "source": [
    "# when target variable is having the null then remember you give zero\n",
    "# beacause if will make assumption here then what is the use of model buiding so it will be kept zero(0)"
   ]
  },
  {
   "cell_type": "code",
   "execution_count": 11,
   "id": "275aaa25",
   "metadata": {},
   "outputs": [],
   "source": [
    "# converting null using the fill na\n",
    "cp.normalized_losses = cp.normalized_losses.fillna(cp.normalized_losses.mean())\n",
    "cp.bore = cp.bore.fillna(cp.bore.mean())\n",
    "cp.stroke = cp.stroke.fillna(cp.stroke.mean())\n",
    "cp.horsepower = cp.horsepower.fillna(cp.horsepower.mean())\n",
    "cp.peak_rpm = cp.peak_rpm.fillna(cp.peak_rpm.mean())\n",
    "cp.price = cp.price.fillna(0) # when target variable is having the null then remember you give zero.\n",
    "cp.num_of_doors = cp.num_of_doors.fillna('four')\n"
   ]
  },
  {
   "cell_type": "code",
   "execution_count": 12,
   "id": "58c74510",
   "metadata": {},
   "outputs": [
    {
     "data": {
      "text/html": [
       "<div>\n",
       "<style scoped>\n",
       "    .dataframe tbody tr th:only-of-type {\n",
       "        vertical-align: middle;\n",
       "    }\n",
       "\n",
       "    .dataframe tbody tr th {\n",
       "        vertical-align: top;\n",
       "    }\n",
       "\n",
       "    .dataframe thead th {\n",
       "        text-align: right;\n",
       "    }\n",
       "</style>\n",
       "<table border=\"1\" class=\"dataframe\">\n",
       "  <thead>\n",
       "    <tr style=\"text-align: right;\">\n",
       "      <th></th>\n",
       "      <th>symboling</th>\n",
       "      <th>normalized_losses</th>\n",
       "      <th>Fuel_type</th>\n",
       "      <th>make</th>\n",
       "      <th>num_of_doors</th>\n",
       "      <th>aspiration</th>\n",
       "      <th>wheel_base</th>\n",
       "      <th>engine_location</th>\n",
       "      <th>drive_wheels</th>\n",
       "      <th>body_style</th>\n",
       "      <th>...</th>\n",
       "      <th>engine_size</th>\n",
       "      <th>fuel_system</th>\n",
       "      <th>bore</th>\n",
       "      <th>stroke</th>\n",
       "      <th>compression_ratio</th>\n",
       "      <th>horsepower</th>\n",
       "      <th>peak_rpm</th>\n",
       "      <th>city_mpg</th>\n",
       "      <th>highway_mpg</th>\n",
       "      <th>price</th>\n",
       "    </tr>\n",
       "  </thead>\n",
       "  <tbody>\n",
       "    <tr>\n",
       "      <th>0</th>\n",
       "      <td>3</td>\n",
       "      <td>122.0</td>\n",
       "      <td>gas</td>\n",
       "      <td>std</td>\n",
       "      <td>two</td>\n",
       "      <td>convertible</td>\n",
       "      <td>rwd</td>\n",
       "      <td>front</td>\n",
       "      <td>88.6</td>\n",
       "      <td>alfa-romero</td>\n",
       "      <td>...</td>\n",
       "      <td>130</td>\n",
       "      <td>mpfi</td>\n",
       "      <td>3.47</td>\n",
       "      <td>2.68</td>\n",
       "      <td>9.0</td>\n",
       "      <td>111.0</td>\n",
       "      <td>5000.0</td>\n",
       "      <td>21</td>\n",
       "      <td>27</td>\n",
       "      <td>13495.0</td>\n",
       "    </tr>\n",
       "    <tr>\n",
       "      <th>1</th>\n",
       "      <td>3</td>\n",
       "      <td>122.0</td>\n",
       "      <td>gas</td>\n",
       "      <td>std</td>\n",
       "      <td>two</td>\n",
       "      <td>convertible</td>\n",
       "      <td>rwd</td>\n",
       "      <td>front</td>\n",
       "      <td>88.6</td>\n",
       "      <td>alfa-romero</td>\n",
       "      <td>...</td>\n",
       "      <td>130</td>\n",
       "      <td>mpfi</td>\n",
       "      <td>3.47</td>\n",
       "      <td>2.68</td>\n",
       "      <td>9.0</td>\n",
       "      <td>111.0</td>\n",
       "      <td>5000.0</td>\n",
       "      <td>21</td>\n",
       "      <td>27</td>\n",
       "      <td>16500.0</td>\n",
       "    </tr>\n",
       "    <tr>\n",
       "      <th>2</th>\n",
       "      <td>1</td>\n",
       "      <td>122.0</td>\n",
       "      <td>gas</td>\n",
       "      <td>std</td>\n",
       "      <td>two</td>\n",
       "      <td>hatchback</td>\n",
       "      <td>rwd</td>\n",
       "      <td>front</td>\n",
       "      <td>94.5</td>\n",
       "      <td>alfa-romero</td>\n",
       "      <td>...</td>\n",
       "      <td>152</td>\n",
       "      <td>mpfi</td>\n",
       "      <td>2.68</td>\n",
       "      <td>3.47</td>\n",
       "      <td>9.0</td>\n",
       "      <td>154.0</td>\n",
       "      <td>5000.0</td>\n",
       "      <td>19</td>\n",
       "      <td>26</td>\n",
       "      <td>16500.0</td>\n",
       "    </tr>\n",
       "    <tr>\n",
       "      <th>3</th>\n",
       "      <td>2</td>\n",
       "      <td>164.0</td>\n",
       "      <td>gas</td>\n",
       "      <td>std</td>\n",
       "      <td>four</td>\n",
       "      <td>sedan</td>\n",
       "      <td>fwd</td>\n",
       "      <td>front</td>\n",
       "      <td>99.8</td>\n",
       "      <td>audi</td>\n",
       "      <td>...</td>\n",
       "      <td>109</td>\n",
       "      <td>mpfi</td>\n",
       "      <td>3.19</td>\n",
       "      <td>3.40</td>\n",
       "      <td>10.0</td>\n",
       "      <td>102.0</td>\n",
       "      <td>5500.0</td>\n",
       "      <td>24</td>\n",
       "      <td>30</td>\n",
       "      <td>13950.0</td>\n",
       "    </tr>\n",
       "    <tr>\n",
       "      <th>4</th>\n",
       "      <td>2</td>\n",
       "      <td>164.0</td>\n",
       "      <td>gas</td>\n",
       "      <td>std</td>\n",
       "      <td>four</td>\n",
       "      <td>sedan</td>\n",
       "      <td>4wd</td>\n",
       "      <td>front</td>\n",
       "      <td>99.4</td>\n",
       "      <td>audi</td>\n",
       "      <td>...</td>\n",
       "      <td>136</td>\n",
       "      <td>mpfi</td>\n",
       "      <td>3.19</td>\n",
       "      <td>3.40</td>\n",
       "      <td>8.0</td>\n",
       "      <td>115.0</td>\n",
       "      <td>5500.0</td>\n",
       "      <td>18</td>\n",
       "      <td>22</td>\n",
       "      <td>17450.0</td>\n",
       "    </tr>\n",
       "  </tbody>\n",
       "</table>\n",
       "<p>5 rows × 26 columns</p>\n",
       "</div>"
      ],
      "text/plain": [
       "   symboling  normalized_losses Fuel_type make num_of_doors   aspiration  \\\n",
       "0          3              122.0       gas  std          two  convertible   \n",
       "1          3              122.0       gas  std          two  convertible   \n",
       "2          1              122.0       gas  std          two    hatchback   \n",
       "3          2              164.0       gas  std         four        sedan   \n",
       "4          2              164.0       gas  std         four        sedan   \n",
       "\n",
       "  wheel_base engine_location  drive_wheels   body_style  ...  engine_size  \\\n",
       "0        rwd           front          88.6  alfa-romero  ...          130   \n",
       "1        rwd           front          88.6  alfa-romero  ...          130   \n",
       "2        rwd           front          94.5  alfa-romero  ...          152   \n",
       "3        fwd           front          99.8         audi  ...          109   \n",
       "4        4wd           front          99.4         audi  ...          136   \n",
       "\n",
       "   fuel_system  bore  stroke compression_ratio horsepower  peak_rpm city_mpg  \\\n",
       "0         mpfi  3.47    2.68               9.0      111.0    5000.0       21   \n",
       "1         mpfi  3.47    2.68               9.0      111.0    5000.0       21   \n",
       "2         mpfi  2.68    3.47               9.0      154.0    5000.0       19   \n",
       "3         mpfi  3.19    3.40              10.0      102.0    5500.0       24   \n",
       "4         mpfi  3.19    3.40               8.0      115.0    5500.0       18   \n",
       "\n",
       "   highway_mpg    price  \n",
       "0           27  13495.0  \n",
       "1           27  16500.0  \n",
       "2           26  16500.0  \n",
       "3           30  13950.0  \n",
       "4           22  17450.0  \n",
       "\n",
       "[5 rows x 26 columns]"
      ]
     },
     "execution_count": 12,
     "metadata": {},
     "output_type": "execute_result"
    }
   ],
   "source": [
    "cp.head() "
   ]
  },
  {
   "cell_type": "markdown",
   "id": "188b7d7a",
   "metadata": {},
   "source": [
    "# Home work"
   ]
  },
  {
   "cell_type": "code",
   "execution_count": 13,
   "id": "5db1f2a0",
   "metadata": {},
   "outputs": [],
   "source": [
    "# rest of the code try on your own \n",
    "# rsquare , adjrsq , mase , mae , mape , check the assumptions\n",
    "# remove the outlier rerun the model again"
   ]
  },
  {
   "cell_type": "markdown",
   "id": "213b0400",
   "metadata": {},
   "source": [
    "# NON NUM to NUM"
   ]
  },
  {
   "cell_type": "code",
   "execution_count": 14,
   "id": "7de55fb1",
   "metadata": {},
   "outputs": [],
   "source": [
    "# converting the non numeric to numeric\n",
    "le = LabelEncoder()"
   ]
  },
  {
   "cell_type": "code",
   "execution_count": 15,
   "id": "28ea9027",
   "metadata": {},
   "outputs": [],
   "source": [
    "# conveting numeric\n",
    "cp[cp.select_dtypes(include=['object']).columns]= cp[cp.select_dtypes(include=['object']).columns].apply(le.fit_transform)"
   ]
  },
  {
   "cell_type": "code",
   "execution_count": 16,
   "id": "162b03ea",
   "metadata": {},
   "outputs": [
    {
     "data": {
      "text/html": [
       "<div>\n",
       "<style scoped>\n",
       "    .dataframe tbody tr th:only-of-type {\n",
       "        vertical-align: middle;\n",
       "    }\n",
       "\n",
       "    .dataframe tbody tr th {\n",
       "        vertical-align: top;\n",
       "    }\n",
       "\n",
       "    .dataframe thead th {\n",
       "        text-align: right;\n",
       "    }\n",
       "</style>\n",
       "<table border=\"1\" class=\"dataframe\">\n",
       "  <thead>\n",
       "    <tr style=\"text-align: right;\">\n",
       "      <th></th>\n",
       "      <th>symboling</th>\n",
       "      <th>normalized_losses</th>\n",
       "      <th>Fuel_type</th>\n",
       "      <th>make</th>\n",
       "      <th>num_of_doors</th>\n",
       "      <th>aspiration</th>\n",
       "      <th>wheel_base</th>\n",
       "      <th>engine_location</th>\n",
       "      <th>drive_wheels</th>\n",
       "      <th>body_style</th>\n",
       "      <th>...</th>\n",
       "      <th>engine_size</th>\n",
       "      <th>fuel_system</th>\n",
       "      <th>bore</th>\n",
       "      <th>stroke</th>\n",
       "      <th>compression_ratio</th>\n",
       "      <th>horsepower</th>\n",
       "      <th>peak_rpm</th>\n",
       "      <th>city_mpg</th>\n",
       "      <th>highway_mpg</th>\n",
       "      <th>price</th>\n",
       "    </tr>\n",
       "  </thead>\n",
       "  <tbody>\n",
       "    <tr>\n",
       "      <th>0</th>\n",
       "      <td>3</td>\n",
       "      <td>122.0</td>\n",
       "      <td>1</td>\n",
       "      <td>0</td>\n",
       "      <td>1</td>\n",
       "      <td>0</td>\n",
       "      <td>2</td>\n",
       "      <td>0</td>\n",
       "      <td>88.6</td>\n",
       "      <td>0</td>\n",
       "      <td>...</td>\n",
       "      <td>130</td>\n",
       "      <td>5</td>\n",
       "      <td>3.47</td>\n",
       "      <td>2.68</td>\n",
       "      <td>9.0</td>\n",
       "      <td>111.0</td>\n",
       "      <td>5000.0</td>\n",
       "      <td>21</td>\n",
       "      <td>27</td>\n",
       "      <td>13495.0</td>\n",
       "    </tr>\n",
       "    <tr>\n",
       "      <th>1</th>\n",
       "      <td>3</td>\n",
       "      <td>122.0</td>\n",
       "      <td>1</td>\n",
       "      <td>0</td>\n",
       "      <td>1</td>\n",
       "      <td>0</td>\n",
       "      <td>2</td>\n",
       "      <td>0</td>\n",
       "      <td>88.6</td>\n",
       "      <td>0</td>\n",
       "      <td>...</td>\n",
       "      <td>130</td>\n",
       "      <td>5</td>\n",
       "      <td>3.47</td>\n",
       "      <td>2.68</td>\n",
       "      <td>9.0</td>\n",
       "      <td>111.0</td>\n",
       "      <td>5000.0</td>\n",
       "      <td>21</td>\n",
       "      <td>27</td>\n",
       "      <td>16500.0</td>\n",
       "    </tr>\n",
       "    <tr>\n",
       "      <th>2</th>\n",
       "      <td>1</td>\n",
       "      <td>122.0</td>\n",
       "      <td>1</td>\n",
       "      <td>0</td>\n",
       "      <td>1</td>\n",
       "      <td>2</td>\n",
       "      <td>2</td>\n",
       "      <td>0</td>\n",
       "      <td>94.5</td>\n",
       "      <td>0</td>\n",
       "      <td>...</td>\n",
       "      <td>152</td>\n",
       "      <td>5</td>\n",
       "      <td>2.68</td>\n",
       "      <td>3.47</td>\n",
       "      <td>9.0</td>\n",
       "      <td>154.0</td>\n",
       "      <td>5000.0</td>\n",
       "      <td>19</td>\n",
       "      <td>26</td>\n",
       "      <td>16500.0</td>\n",
       "    </tr>\n",
       "    <tr>\n",
       "      <th>3</th>\n",
       "      <td>2</td>\n",
       "      <td>164.0</td>\n",
       "      <td>1</td>\n",
       "      <td>0</td>\n",
       "      <td>0</td>\n",
       "      <td>3</td>\n",
       "      <td>1</td>\n",
       "      <td>0</td>\n",
       "      <td>99.8</td>\n",
       "      <td>1</td>\n",
       "      <td>...</td>\n",
       "      <td>109</td>\n",
       "      <td>5</td>\n",
       "      <td>3.19</td>\n",
       "      <td>3.40</td>\n",
       "      <td>10.0</td>\n",
       "      <td>102.0</td>\n",
       "      <td>5500.0</td>\n",
       "      <td>24</td>\n",
       "      <td>30</td>\n",
       "      <td>13950.0</td>\n",
       "    </tr>\n",
       "    <tr>\n",
       "      <th>4</th>\n",
       "      <td>2</td>\n",
       "      <td>164.0</td>\n",
       "      <td>1</td>\n",
       "      <td>0</td>\n",
       "      <td>0</td>\n",
       "      <td>3</td>\n",
       "      <td>0</td>\n",
       "      <td>0</td>\n",
       "      <td>99.4</td>\n",
       "      <td>1</td>\n",
       "      <td>...</td>\n",
       "      <td>136</td>\n",
       "      <td>5</td>\n",
       "      <td>3.19</td>\n",
       "      <td>3.40</td>\n",
       "      <td>8.0</td>\n",
       "      <td>115.0</td>\n",
       "      <td>5500.0</td>\n",
       "      <td>18</td>\n",
       "      <td>22</td>\n",
       "      <td>17450.0</td>\n",
       "    </tr>\n",
       "  </tbody>\n",
       "</table>\n",
       "<p>5 rows × 26 columns</p>\n",
       "</div>"
      ],
      "text/plain": [
       "   symboling  normalized_losses  Fuel_type  make  num_of_doors  aspiration  \\\n",
       "0          3              122.0          1     0             1           0   \n",
       "1          3              122.0          1     0             1           0   \n",
       "2          1              122.0          1     0             1           2   \n",
       "3          2              164.0          1     0             0           3   \n",
       "4          2              164.0          1     0             0           3   \n",
       "\n",
       "   wheel_base  engine_location  drive_wheels  body_style  ...  engine_size  \\\n",
       "0           2                0          88.6           0  ...          130   \n",
       "1           2                0          88.6           0  ...          130   \n",
       "2           2                0          94.5           0  ...          152   \n",
       "3           1                0          99.8           1  ...          109   \n",
       "4           0                0          99.4           1  ...          136   \n",
       "\n",
       "   fuel_system  bore  stroke  compression_ratio  horsepower  peak_rpm  \\\n",
       "0            5  3.47    2.68                9.0       111.0    5000.0   \n",
       "1            5  3.47    2.68                9.0       111.0    5000.0   \n",
       "2            5  2.68    3.47                9.0       154.0    5000.0   \n",
       "3            5  3.19    3.40               10.0       102.0    5500.0   \n",
       "4            5  3.19    3.40                8.0       115.0    5500.0   \n",
       "\n",
       "   city_mpg  highway_mpg    price  \n",
       "0        21           27  13495.0  \n",
       "1        21           27  16500.0  \n",
       "2        19           26  16500.0  \n",
       "3        24           30  13950.0  \n",
       "4        18           22  17450.0  \n",
       "\n",
       "[5 rows x 26 columns]"
      ]
     },
     "execution_count": 16,
     "metadata": {},
     "output_type": "execute_result"
    }
   ],
   "source": [
    "cp.head() # successfully converted the data from non numeric to numeric "
   ]
  },
  {
   "cell_type": "code",
   "execution_count": 48,
   "id": "be14c52b",
   "metadata": {},
   "outputs": [],
   "source": [
    "cp = df1 # after finding the outlier and removing them\n",
    "        # putting this line and rerunning the model again to get better result "
   ]
  },
  {
   "cell_type": "markdown",
   "id": "e9e9ebb0",
   "metadata": {},
   "source": [
    "# Sampling data"
   ]
  },
  {
   "cell_type": "code",
   "execution_count": 49,
   "id": "7fea180e",
   "metadata": {},
   "outputs": [],
   "source": [
    "cp_train , cp_test = train_test_split(cp , test_size = .2) # sampling the data for model building"
   ]
  },
  {
   "cell_type": "code",
   "execution_count": 50,
   "id": "dc59dcac",
   "metadata": {},
   "outputs": [
    {
     "data": {
      "text/plain": [
       "(152, 26)"
      ]
     },
     "execution_count": 50,
     "metadata": {},
     "output_type": "execute_result"
    }
   ],
   "source": [
    "cp_train.shape"
   ]
  },
  {
   "cell_type": "code",
   "execution_count": 51,
   "id": "e084def5",
   "metadata": {},
   "outputs": [
    {
     "data": {
      "text/plain": [
       "(39, 26)"
      ]
     },
     "execution_count": 51,
     "metadata": {},
     "output_type": "execute_result"
    }
   ],
   "source": [
    "cp_test.shape"
   ]
  },
  {
   "cell_type": "code",
   "execution_count": 52,
   "id": "6fd12951",
   "metadata": {},
   "outputs": [],
   "source": [
    "cp_train_x = cp_train.iloc[: , 0:-1] # indepedent variable\n",
    "cp_train_y = cp_train.iloc[: , -1] # target variable "
   ]
  },
  {
   "cell_type": "code",
   "execution_count": 53,
   "id": "9b985ca7",
   "metadata": {},
   "outputs": [],
   "source": [
    "cp_test_x = cp_test.iloc[: , 0:-1]\n",
    "cp_test_y = cp_test.iloc[: , -1]"
   ]
  },
  {
   "cell_type": "markdown",
   "id": "0985745f",
   "metadata": {},
   "source": [
    "# Creating linear model"
   ]
  },
  {
   "cell_type": "code",
   "execution_count": 54,
   "id": "52b42073",
   "metadata": {},
   "outputs": [],
   "source": [
    "# import linearregressoion which is already imported at top\n",
    "linreg_cp = LinearRegression()"
   ]
  },
  {
   "cell_type": "code",
   "execution_count": 55,
   "id": "1abfcf92",
   "metadata": {},
   "outputs": [
    {
     "data": {
      "text/html": [
       "<style>#sk-container-id-2 {color: black;background-color: white;}#sk-container-id-2 pre{padding: 0;}#sk-container-id-2 div.sk-toggleable {background-color: white;}#sk-container-id-2 label.sk-toggleable__label {cursor: pointer;display: block;width: 100%;margin-bottom: 0;padding: 0.3em;box-sizing: border-box;text-align: center;}#sk-container-id-2 label.sk-toggleable__label-arrow:before {content: \"▸\";float: left;margin-right: 0.25em;color: #696969;}#sk-container-id-2 label.sk-toggleable__label-arrow:hover:before {color: black;}#sk-container-id-2 div.sk-estimator:hover label.sk-toggleable__label-arrow:before {color: black;}#sk-container-id-2 div.sk-toggleable__content {max-height: 0;max-width: 0;overflow: hidden;text-align: left;background-color: #f0f8ff;}#sk-container-id-2 div.sk-toggleable__content pre {margin: 0.2em;color: black;border-radius: 0.25em;background-color: #f0f8ff;}#sk-container-id-2 input.sk-toggleable__control:checked~div.sk-toggleable__content {max-height: 200px;max-width: 100%;overflow: auto;}#sk-container-id-2 input.sk-toggleable__control:checked~label.sk-toggleable__label-arrow:before {content: \"▾\";}#sk-container-id-2 div.sk-estimator input.sk-toggleable__control:checked~label.sk-toggleable__label {background-color: #d4ebff;}#sk-container-id-2 div.sk-label input.sk-toggleable__control:checked~label.sk-toggleable__label {background-color: #d4ebff;}#sk-container-id-2 input.sk-hidden--visually {border: 0;clip: rect(1px 1px 1px 1px);clip: rect(1px, 1px, 1px, 1px);height: 1px;margin: -1px;overflow: hidden;padding: 0;position: absolute;width: 1px;}#sk-container-id-2 div.sk-estimator {font-family: monospace;background-color: #f0f8ff;border: 1px dotted black;border-radius: 0.25em;box-sizing: border-box;margin-bottom: 0.5em;}#sk-container-id-2 div.sk-estimator:hover {background-color: #d4ebff;}#sk-container-id-2 div.sk-parallel-item::after {content: \"\";width: 100%;border-bottom: 1px solid gray;flex-grow: 1;}#sk-container-id-2 div.sk-label:hover label.sk-toggleable__label {background-color: #d4ebff;}#sk-container-id-2 div.sk-serial::before {content: \"\";position: absolute;border-left: 1px solid gray;box-sizing: border-box;top: 0;bottom: 0;left: 50%;z-index: 0;}#sk-container-id-2 div.sk-serial {display: flex;flex-direction: column;align-items: center;background-color: white;padding-right: 0.2em;padding-left: 0.2em;position: relative;}#sk-container-id-2 div.sk-item {position: relative;z-index: 1;}#sk-container-id-2 div.sk-parallel {display: flex;align-items: stretch;justify-content: center;background-color: white;position: relative;}#sk-container-id-2 div.sk-item::before, #sk-container-id-2 div.sk-parallel-item::before {content: \"\";position: absolute;border-left: 1px solid gray;box-sizing: border-box;top: 0;bottom: 0;left: 50%;z-index: -1;}#sk-container-id-2 div.sk-parallel-item {display: flex;flex-direction: column;z-index: 1;position: relative;background-color: white;}#sk-container-id-2 div.sk-parallel-item:first-child::after {align-self: flex-end;width: 50%;}#sk-container-id-2 div.sk-parallel-item:last-child::after {align-self: flex-start;width: 50%;}#sk-container-id-2 div.sk-parallel-item:only-child::after {width: 0;}#sk-container-id-2 div.sk-dashed-wrapped {border: 1px dashed gray;margin: 0 0.4em 0.5em 0.4em;box-sizing: border-box;padding-bottom: 0.4em;background-color: white;}#sk-container-id-2 div.sk-label label {font-family: monospace;font-weight: bold;display: inline-block;line-height: 1.2em;}#sk-container-id-2 div.sk-label-container {text-align: center;}#sk-container-id-2 div.sk-container {/* jupyter's `normalize.less` sets `[hidden] { display: none; }` but bootstrap.min.css set `[hidden] { display: none !important; }` so we also need the `!important` here to be able to override the default hidden behavior on the sphinx rendered scikit-learn.org. See: https://github.com/scikit-learn/scikit-learn/issues/21755 */display: inline-block !important;position: relative;}#sk-container-id-2 div.sk-text-repr-fallback {display: none;}</style><div id=\"sk-container-id-2\" class=\"sk-top-container\"><div class=\"sk-text-repr-fallback\"><pre>LinearRegression()</pre><b>In a Jupyter environment, please rerun this cell to show the HTML representation or trust the notebook. <br />On GitHub, the HTML representation is unable to render, please try loading this page with nbviewer.org.</b></div><div class=\"sk-container\" hidden><div class=\"sk-item\"><div class=\"sk-estimator sk-toggleable\"><input class=\"sk-toggleable__control sk-hidden--visually\" id=\"sk-estimator-id-2\" type=\"checkbox\" checked><label for=\"sk-estimator-id-2\" class=\"sk-toggleable__label sk-toggleable__label-arrow\">LinearRegression</label><div class=\"sk-toggleable__content\"><pre>LinearRegression()</pre></div></div></div></div></div>"
      ],
      "text/plain": [
       "LinearRegression()"
      ]
     },
     "execution_count": 55,
     "metadata": {},
     "output_type": "execute_result"
    }
   ],
   "source": [
    "linreg_cp.fit(cp_train_x , cp_train_y) # model had been created"
   ]
  },
  {
   "cell_type": "markdown",
   "id": "8281457b",
   "metadata": {},
   "source": [
    "# Finding Rsquare"
   ]
  },
  {
   "cell_type": "code",
   "execution_count": 56,
   "id": "1a6e4790",
   "metadata": {},
   "outputs": [
    {
     "data": {
      "text/plain": [
       "0.8161698821874968"
      ]
     },
     "execution_count": 56,
     "metadata": {},
     "output_type": "execute_result"
    }
   ],
   "source": [
    "linreg_cp.score(cp_train_x,cp_train_y)"
   ]
  },
  {
   "cell_type": "code",
   "execution_count": 57,
   "id": "88e75a3b",
   "metadata": {},
   "outputs": [
    {
     "data": {
      "text/plain": [
       "0.8161698821874968"
      ]
     },
     "execution_count": 57,
     "metadata": {},
     "output_type": "execute_result"
    }
   ],
   "source": [
    "Rsquare = linreg_cp.score(cp_train_x , cp_train_y)\n",
    "Rsquare"
   ]
  },
  {
   "cell_type": "code",
   "execution_count": 58,
   "id": "d256a8b8",
   "metadata": {},
   "outputs": [
    {
     "data": {
      "text/plain": [
       "25"
      ]
     },
     "execution_count": 58,
     "metadata": {},
     "output_type": "execute_result"
    }
   ],
   "source": [
    "len(cp_train_x.columns)"
   ]
  },
  {
   "cell_type": "markdown",
   "id": "071f6130",
   "metadata": {},
   "source": [
    "# Finding the Adj Rsquare"
   ]
  },
  {
   "cell_type": "code",
   "execution_count": 59,
   "id": "be4c6db7",
   "metadata": {},
   "outputs": [],
   "source": [
    "N = cp_train_x.shape[0]\n",
    "K = cp_train_x.shape[1]"
   ]
  },
  {
   "cell_type": "code",
   "execution_count": 60,
   "id": "d6b77c81",
   "metadata": {},
   "outputs": [
    {
     "data": {
      "text/plain": [
       "0.7796956524627937"
      ]
     },
     "execution_count": 60,
     "metadata": {},
     "output_type": "execute_result"
    }
   ],
   "source": [
    "AdjRsquare = 1 - (1 - Rsquare) * (N - 1)/( N - K - 1)\n",
    "AdjRsquare"
   ]
  },
  {
   "cell_type": "code",
   "execution_count": 61,
   "id": "94ce88fc",
   "metadata": {},
   "outputs": [
    {
     "data": {
      "text/plain": [
       "array([-2.74095970e+02,  5.16079895e+00,  1.38604827e+04,  4.56984895e+03,\n",
       "       -8.95372161e+02, -9.73728443e+02,  1.35355781e+03, -2.12878604e-11,\n",
       "       -1.44915076e+02, -1.51658243e+02,  6.12690539e+01,  4.84213971e+02,\n",
       "        4.07060333e+02,  2.70429086e+00,  5.67711484e+00,  1.17831062e+03,\n",
       "        8.34361446e+01,  5.14846984e+02, -2.38946627e+03, -1.54517365e+03,\n",
       "        1.00154993e+03, -8.48641383e+01,  5.21117699e-01, -2.99878920e+02,\n",
       "        4.44289731e+01])"
      ]
     },
     "execution_count": 61,
     "metadata": {},
     "output_type": "execute_result"
    }
   ],
   "source": [
    "linreg_cp.coef_ # to  find the coefficient # value of B1, B2 value slope M"
   ]
  },
  {
   "cell_type": "code",
   "execution_count": 62,
   "id": "a1d1a0c3",
   "metadata": {},
   "outputs": [
    {
     "data": {
      "text/plain": [
       "-55297.084836674665"
      ]
     },
     "execution_count": 62,
     "metadata": {},
     "output_type": "execute_result"
    }
   ],
   "source": [
    "linreg_cp.intercept_ # to find the intercept  # Bo"
   ]
  },
  {
   "cell_type": "markdown",
   "id": "3af1ba62",
   "metadata": {},
   "source": [
    "# Error"
   ]
  },
  {
   "cell_type": "code",
   "execution_count": 63,
   "id": "fbf85e72",
   "metadata": {},
   "outputs": [],
   "source": [
    "pred_train = linreg_cp.predict(cp_train_x)\n",
    "pred_test = linreg_cp.predict(cp_test_x)"
   ]
  },
  {
   "cell_type": "code",
   "execution_count": 64,
   "id": "4c44dd76",
   "metadata": {},
   "outputs": [],
   "source": [
    "err_test = cp_test_y - pred_test # error=actual - predicted"
   ]
  },
  {
   "cell_type": "code",
   "execution_count": 65,
   "id": "3e28d95e",
   "metadata": {},
   "outputs": [],
   "source": [
    "err_train=cp_train_y - pred_train"
   ]
  },
  {
   "cell_type": "code",
   "execution_count": 66,
   "id": "c9da40da",
   "metadata": {},
   "outputs": [
    {
     "data": {
      "text/plain": [
       "3.5039480089357025e-11"
      ]
     },
     "execution_count": 66,
     "metadata": {},
     "output_type": "execute_result"
    }
   ],
   "source": [
    "np.mean(err_train) # (Mean Square Error) mean of error should always be close to zero"
   ]
  },
  {
   "cell_type": "markdown",
   "id": "4de5f693",
   "metadata": {},
   "source": [
    "# MSE"
   ]
  },
  {
   "cell_type": "code",
   "execution_count": 67,
   "id": "41cae5a4",
   "metadata": {},
   "outputs": [
    {
     "data": {
      "text/plain": [
       "10849641.684523437"
      ]
     },
     "execution_count": 67,
     "metadata": {},
     "output_type": "execute_result"
    }
   ],
   "source": [
    "mse = np.mean(np.square(err_test))\n",
    "mse"
   ]
  },
  {
   "cell_type": "markdown",
   "id": "2a94eb2e",
   "metadata": {},
   "source": [
    "# Finding RMSE"
   ]
  },
  {
   "cell_type": "code",
   "execution_count": 68,
   "id": "79f86d59",
   "metadata": {},
   "outputs": [
    {
     "data": {
      "text/plain": [
       "3293.8794277452594"
      ]
     },
     "execution_count": 68,
     "metadata": {},
     "output_type": "execute_result"
    }
   ],
   "source": [
    "rmse  = np.sqrt(mse) # it is nothing but the square root of  the rmse # root mean square error \n",
    "rmse"
   ]
  },
  {
   "cell_type": "markdown",
   "id": "5d332c70",
   "metadata": {},
   "source": [
    "# MAPE"
   ]
  },
  {
   "cell_type": "code",
   "execution_count": 69,
   "id": "cb589761",
   "metadata": {},
   "outputs": [
    {
     "data": {
      "text/plain": [
       "inf"
      ]
     },
     "execution_count": 69,
     "metadata": {},
     "output_type": "execute_result"
    }
   ],
   "source": [
    "mape=np.mean(np.abs( err_test *100/cp_test_y))\n",
    "mape # 100-11.31=00 88 % model accurary mean abs persentile error\n",
    "#error*100/actual"
   ]
  },
  {
   "cell_type": "markdown",
   "id": "de0d02e1",
   "metadata": {},
   "source": [
    "# Predicting the data"
   ]
  },
  {
   "cell_type": "code",
   "execution_count": 70,
   "id": "50a8f8b2",
   "metadata": {},
   "outputs": [],
   "source": [
    "pred_train_cp = linreg_cp.predict(cp_train_x)\n",
    "pred_test_cp = linreg_cp.predict(cp_test_x)"
   ]
  },
  {
   "cell_type": "markdown",
   "id": "48f862fb",
   "metadata": {},
   "source": [
    "# finding the error in the data "
   ]
  },
  {
   "cell_type": "code",
   "execution_count": 71,
   "id": "24a7ec77",
   "metadata": {},
   "outputs": [],
   "source": [
    "err_train = cp_train_y - pred_train_cp\n",
    "err_test = cp_test_y - pred_test_cp"
   ]
  },
  {
   "cell_type": "markdown",
   "id": "f706235a",
   "metadata": {},
   "source": [
    "# Visualizing to analyze the dataset"
   ]
  },
  {
   "cell_type": "code",
   "execution_count": 72,
   "id": "f5a64736",
   "metadata": {},
   "outputs": [
    {
     "data": {
      "text/plain": [
       "[<matplotlib.lines.Line2D at 0x210fd059ba0>]"
      ]
     },
     "execution_count": 72,
     "metadata": {},
     "output_type": "execute_result"
    },
    {
     "data": {
      "image/png": "[encoded data removed]",
      "text/plain": [
       "<Figure size 640x480 with 1 Axes>"
      ]
     },
     "metadata": {},
     "output_type": "display_data"
    }
   ],
   "source": [
    "plt.plot(err_train , \"*\") # ploting the scatter plot \n",
    "                        # to check the pattern"
   ]
  },
  {
   "cell_type": "code",
   "execution_count": 73,
   "id": "20964935",
   "metadata": {},
   "outputs": [
    {
     "data": {
      "text/plain": [
       "(array([ 1.,  0.,  2.,  1.,  2.,  5.,  5.,  6.,  7., 18., 11., 21., 26.,\n",
       "        17.,  8., 10.,  4.,  3.,  2.,  3.]),\n",
       " array([-7696.107614  , -7029.36696503, -6362.62631606, -5695.88566709,\n",
       "        -5029.14501812, -4362.40436915, -3695.66372018, -3028.92307121,\n",
       "        -2362.18242225, -1695.44177328, -1028.70112431,  -361.96047534,\n",
       "          304.78017363,   971.5208226 ,  1638.26147157,  2305.00212054,\n",
       "         2971.74276951,  3638.48341847,  4305.22406744,  4971.96471641,\n",
       "         5638.70536538]),\n",
       " <BarContainer object of 20 artists>)"
      ]
     },
     "execution_count": 73,
     "metadata": {},
     "output_type": "execute_result"
    },
    {
     "data": {
      "image/png": "[encoded data removed]",
      "text/plain": [
       "<Figure size 640x480 with 1 Axes>"
      ]
     },
     "metadata": {},
     "output_type": "display_data"
    }
   ],
   "source": [
    "plt.hist(err_train, bins=20) # checking the histogram in the model \n",
    "                            # check if normally data or not"
   ]
  },
  {
   "cell_type": "code",
   "execution_count": 74,
   "id": "69219452",
   "metadata": {},
   "outputs": [
    {
     "data": {
      "text/plain": [
       "(array([ 1.,  0.,  2.,  1.,  2.,  5.,  5.,  6.,  7., 18., 11., 21., 26.,\n",
       "        17.,  8., 10.,  4.,  3.,  2.,  3.]),\n",
       " array([-7696.107614  , -7029.36696503, -6362.62631606, -5695.88566709,\n",
       "        -5029.14501812, -4362.40436915, -3695.66372018, -3028.92307121,\n",
       "        -2362.18242225, -1695.44177328, -1028.70112431,  -361.96047534,\n",
       "          304.78017363,   971.5208226 ,  1638.26147157,  2305.00212054,\n",
       "         2971.74276951,  3638.48341847,  4305.22406744,  4971.96471641,\n",
       "         5638.70536538]),\n",
       " <BarContainer object of 20 artists>)"
      ]
     },
     "execution_count": 74,
     "metadata": {},
     "output_type": "execute_result"
    },
    {
     "data": {
      "image/png": "[encoded data removed]",
      "text/plain": [
       "<Figure size 640x480 with 1 Axes>"
      ]
     },
     "metadata": {},
     "output_type": "display_data"
    }
   ],
   "source": [
    "plt.hist(err_train , color = \"g\" , bins = 20 , edgecolor = \"r\") # check the if it is normally"
   ]
  },
  {
   "cell_type": "code",
   "execution_count": 75,
   "id": "1907e126",
   "metadata": {},
   "outputs": [
    {
     "data": {
      "text/plain": [
       "<seaborn.axisgrid.FacetGrid at 0x210fd25baf0>"
      ]
     },
     "execution_count": 75,
     "metadata": {},
     "output_type": "execute_result"
    },
    {
     "data": {
      "image/png": "[encoded data removed]",
      "text/plain": [
       "<Figure size 500x500 with 1 Axes>"
      ]
     },
     "metadata": {},
     "output_type": "display_data"
    }
   ],
   "source": [
    "sns.displot(err_train,kde=True) # we peakness=3 lepotokutic"
   ]
  },
  {
   "cell_type": "markdown",
   "id": "cbaf0df1",
   "metadata": {},
   "source": [
    "# Reggression (TO check the homocedenecity)"
   ]
  },
  {
   "cell_type": "code",
   "execution_count": 76,
   "id": "5eb207b7",
   "metadata": {},
   "outputs": [
    {
     "data": {
      "text/plain": [
       "<seaborn.axisgrid.JointGrid at 0x210fbced000>"
      ]
     },
     "execution_count": 76,
     "metadata": {},
     "output_type": "execute_result"
    },
    {
     "data": {
      "image/png": "[encoded data removed]",
      "text/plain": [
       "<Figure size 600x600 with 3 Axes>"
      ]
     },
     "metadata": {},
     "output_type": "display_data"
    }
   ],
   "source": [
    "pred_actual_df = pd.DataFrame()\n",
    "pred_actual_df['Actual'] = cp_train_y\n",
    "pred_actual_df['Predict'] = pred_train_cp\n",
    "sns.jointplot(x = 'Actual' , y = 'Predict',data = pred_actual_df, kind= 'reg')"
   ]
  },
  {
   "cell_type": "markdown",
   "id": "800ddc5f",
   "metadata": {},
   "source": [
    "# Removing the outlier"
   ]
  },
  {
   "cell_type": "code",
   "execution_count": 77,
   "id": "65ed54e4",
   "metadata": {},
   "outputs": [],
   "source": [
    "# NOTE-- Do not run these code more time or you may lose more scenarios which be needed to predict the model\n",
    "# So use it wisely and then furture you can rerun and can check when the model is performing better\n",
    "\n",
    "# code to remove the outlier\n",
    "def remove_outlier(df,col,k=2):\n",
    "    mean = df[col].mean()\n",
    "    global df1\n",
    "    sd = df[col].std()\n",
    "    final_list = [x for x in df[col] if (x > mean - k * sd)]\n",
    "    final_list = [x for x in final_list if (x < mean + k * sd)]\n",
    "    df1 = df.loc[df[col].isin(final_list)] ; print(df1.shape)\n",
    "    # df1 is A final dataframe (DF) where the outlier has been removed \n",
    "    print(\"Number of outlier removed ==>\" , df.shape[0] - df1.shape[0])"
   ]
  },
  {
   "cell_type": "code",
   "execution_count": 47,
   "id": "d47ead72",
   "metadata": {},
   "outputs": [
    {
     "name": "stdout",
     "output_type": "stream",
     "text": [
      "(191, 26)\n",
      "Number of outlier removed ==> 14\n"
     ]
    }
   ],
   "source": [
    "remove_outlier(cp,'price', k=2)"
   ]
  },
  {
   "cell_type": "code",
   "execution_count": null,
   "id": "601c445d",
   "metadata": {},
   "outputs": [],
   "source": [
    "# Here we will be only running once as it will be sufficient to the remove the outlier\n",
    "# As you know we loose much data if perform this task ad which may impact on the model"
   ]
  },
  {
   "cell_type": "markdown",
   "id": "2129c429",
   "metadata": {},
   "source": [
    "# Note -- here we have rerun the model after the removal of the outlier from the dataset just before the sampling"
   ]
  },
  {
   "cell_type": "code",
   "execution_count": null,
   "id": "463d9345",
   "metadata": {},
   "outputs": [],
   "source": []
  }
 ],
 "metadata": {
  "kernelspec": {
   "display_name": "Python 3 (ipykernel)",
   "language": "python",
   "name": "python3"
  },
  "language_info": {
   "codemirror_mode": {
    "name": "ipython",
    "version": 3
   },
   "file_extension": ".py",
   "mimetype": "text/x-python",
   "name": "python",
   "nbconvert_exporter": "python",
   "pygments_lexer": "ipython3",
   "version": "3.10.5"
  }
 },
 "nbformat": 4,
 "nbformat_minor": 5
}
