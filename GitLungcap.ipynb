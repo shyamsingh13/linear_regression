{
 "cells": [
  {
   "cell_type": "code",
   "execution_count": 1,
   "id": "2488c9a1",
   "metadata": {},
   "outputs": [],
   "source": [
    "import pandas as pd\n",
    "import numpy as np"
   ]
  },
  {
   "cell_type": "code",
   "execution_count": 2,
   "id": "4e10dc60",
   "metadata": {},
   "outputs": [],
   "source": [
    "lcn = pd.read_csv(r\"F:\\carreer\\LungCapData.csv\")"
   ]
  },
  {
   "cell_type": "code",
   "execution_count": 3,
   "id": "4b9e84cd",
   "metadata": {},
   "outputs": [
    {
     "data": {
      "text/html": [
       "<div>\n",
       "<style scoped>\n",
       "    .dataframe tbody tr th:only-of-type {\n",
       "        vertical-align: middle;\n",
       "    }\n",
       "\n",
       "    .dataframe tbody tr th {\n",
       "        vertical-align: top;\n",
       "    }\n",
       "\n",
       "    .dataframe thead th {\n",
       "        text-align: right;\n",
       "    }\n",
       "</style>\n",
       "<table border=\"1\" class=\"dataframe\">\n",
       "  <thead>\n",
       "    <tr style=\"text-align: right;\">\n",
       "      <th></th>\n",
       "      <th>LungCap</th>\n",
       "      <th>Age</th>\n",
       "      <th>Height</th>\n",
       "      <th>Smoke</th>\n",
       "      <th>Gender</th>\n",
       "      <th>Caesarean</th>\n",
       "    </tr>\n",
       "  </thead>\n",
       "  <tbody>\n",
       "    <tr>\n",
       "      <th>0</th>\n",
       "      <td>6.475</td>\n",
       "      <td>6</td>\n",
       "      <td>62.1</td>\n",
       "      <td>no</td>\n",
       "      <td>male</td>\n",
       "      <td>no</td>\n",
       "    </tr>\n",
       "    <tr>\n",
       "      <th>1</th>\n",
       "      <td>10.125</td>\n",
       "      <td>18</td>\n",
       "      <td>74.7</td>\n",
       "      <td>yes</td>\n",
       "      <td>female</td>\n",
       "      <td>no</td>\n",
       "    </tr>\n",
       "    <tr>\n",
       "      <th>2</th>\n",
       "      <td>9.550</td>\n",
       "      <td>16</td>\n",
       "      <td>69.7</td>\n",
       "      <td>no</td>\n",
       "      <td>female</td>\n",
       "      <td>yes</td>\n",
       "    </tr>\n",
       "    <tr>\n",
       "      <th>3</th>\n",
       "      <td>11.125</td>\n",
       "      <td>14</td>\n",
       "      <td>71.0</td>\n",
       "      <td>no</td>\n",
       "      <td>male</td>\n",
       "      <td>no</td>\n",
       "    </tr>\n",
       "    <tr>\n",
       "      <th>4</th>\n",
       "      <td>4.800</td>\n",
       "      <td>5</td>\n",
       "      <td>56.9</td>\n",
       "      <td>no</td>\n",
       "      <td>male</td>\n",
       "      <td>no</td>\n",
       "    </tr>\n",
       "  </tbody>\n",
       "</table>\n",
       "</div>"
      ],
      "text/plain": [
       "   LungCap  Age  Height Smoke  Gender Caesarean\n",
       "0    6.475    6    62.1    no    male        no\n",
       "1   10.125   18    74.7   yes  female        no\n",
       "2    9.550   16    69.7    no  female       yes\n",
       "3   11.125   14    71.0    no    male        no\n",
       "4    4.800    5    56.9    no    male        no"
      ]
     },
     "execution_count": 3,
     "metadata": {},
     "output_type": "execute_result"
    }
   ],
   "source": [
    "lcn.head()"
   ]
  },
  {
   "cell_type": "code",
   "execution_count": 4,
   "id": "6d7212f7",
   "metadata": {},
   "outputs": [],
   "source": [
    "# understading the requirement / problem statement\n",
    "\n",
    "# to build a prediction model which can predict the lung cap"
   ]
  },
  {
   "cell_type": "code",
   "execution_count": 5,
   "id": "c28612c6",
   "metadata": {},
   "outputs": [
    {
     "data": {
      "text/plain": [
       "LungCap      0\n",
       "Age          0\n",
       "Height       0\n",
       "Smoke        0\n",
       "Gender       0\n",
       "Caesarean    0\n",
       "dtype: int64"
      ]
     },
     "execution_count": 5,
     "metadata": {},
     "output_type": "execute_result"
    }
   ],
   "source": [
    "lcn.isnull().sum() # to check the nulls"
   ]
  },
  {
   "cell_type": "code",
   "execution_count": 6,
   "id": "3b07993f",
   "metadata": {},
   "outputs": [],
   "source": [
    "lcn.Smoke = lcn.Smoke.replace({\"no\":0 , \"yes\":1})\n",
    "lcn.Gender = lcn.Gender.replace({\"male\":0 , \"female\":1})\n",
    "lcn.Caesarean = lcn.Caesarean.replace({\"no\":0 , \"yes\":1})"
   ]
  },
  {
   "cell_type": "code",
   "execution_count": 7,
   "id": "1af63eec",
   "metadata": {},
   "outputs": [
    {
     "data": {
      "text/html": [
       "<div>\n",
       "<style scoped>\n",
       "    .dataframe tbody tr th:only-of-type {\n",
       "        vertical-align: middle;\n",
       "    }\n",
       "\n",
       "    .dataframe tbody tr th {\n",
       "        vertical-align: top;\n",
       "    }\n",
       "\n",
       "    .dataframe thead th {\n",
       "        text-align: right;\n",
       "    }\n",
       "</style>\n",
       "<table border=\"1\" class=\"dataframe\">\n",
       "  <thead>\n",
       "    <tr style=\"text-align: right;\">\n",
       "      <th></th>\n",
       "      <th>LungCap</th>\n",
       "      <th>Age</th>\n",
       "      <th>Height</th>\n",
       "      <th>Smoke</th>\n",
       "      <th>Gender</th>\n",
       "      <th>Caesarean</th>\n",
       "    </tr>\n",
       "  </thead>\n",
       "  <tbody>\n",
       "    <tr>\n",
       "      <th>0</th>\n",
       "      <td>6.475</td>\n",
       "      <td>6</td>\n",
       "      <td>62.1</td>\n",
       "      <td>0</td>\n",
       "      <td>0</td>\n",
       "      <td>0</td>\n",
       "    </tr>\n",
       "    <tr>\n",
       "      <th>1</th>\n",
       "      <td>10.125</td>\n",
       "      <td>18</td>\n",
       "      <td>74.7</td>\n",
       "      <td>1</td>\n",
       "      <td>1</td>\n",
       "      <td>0</td>\n",
       "    </tr>\n",
       "    <tr>\n",
       "      <th>2</th>\n",
       "      <td>9.550</td>\n",
       "      <td>16</td>\n",
       "      <td>69.7</td>\n",
       "      <td>0</td>\n",
       "      <td>1</td>\n",
       "      <td>1</td>\n",
       "    </tr>\n",
       "    <tr>\n",
       "      <th>3</th>\n",
       "      <td>11.125</td>\n",
       "      <td>14</td>\n",
       "      <td>71.0</td>\n",
       "      <td>0</td>\n",
       "      <td>0</td>\n",
       "      <td>0</td>\n",
       "    </tr>\n",
       "    <tr>\n",
       "      <th>4</th>\n",
       "      <td>4.800</td>\n",
       "      <td>5</td>\n",
       "      <td>56.9</td>\n",
       "      <td>0</td>\n",
       "      <td>0</td>\n",
       "      <td>0</td>\n",
       "    </tr>\n",
       "  </tbody>\n",
       "</table>\n",
       "</div>"
      ],
      "text/plain": [
       "   LungCap  Age  Height  Smoke  Gender  Caesarean\n",
       "0    6.475    6    62.1      0       0          0\n",
       "1   10.125   18    74.7      1       1          0\n",
       "2    9.550   16    69.7      0       1          1\n",
       "3   11.125   14    71.0      0       0          0\n",
       "4    4.800    5    56.9      0       0          0"
      ]
     },
     "execution_count": 7,
     "metadata": {},
     "output_type": "execute_result"
    }
   ],
   "source": [
    "lcn.head()"
   ]
  },
  {
   "cell_type": "code",
   "execution_count": 8,
   "id": "4c58c10a",
   "metadata": {},
   "outputs": [
    {
     "data": {
      "text/html": [
       "<div>\n",
       "<style scoped>\n",
       "    .dataframe tbody tr th:only-of-type {\n",
       "        vertical-align: middle;\n",
       "    }\n",
       "\n",
       "    .dataframe tbody tr th {\n",
       "        vertical-align: top;\n",
       "    }\n",
       "\n",
       "    .dataframe thead th {\n",
       "        text-align: right;\n",
       "    }\n",
       "</style>\n",
       "<table border=\"1\" class=\"dataframe\">\n",
       "  <thead>\n",
       "    <tr style=\"text-align: right;\">\n",
       "      <th></th>\n",
       "      <th>LungCap</th>\n",
       "      <th>Age</th>\n",
       "      <th>Height</th>\n",
       "      <th>Smoke</th>\n",
       "      <th>Gender</th>\n",
       "      <th>Caesarean</th>\n",
       "    </tr>\n",
       "  </thead>\n",
       "  <tbody>\n",
       "    <tr>\n",
       "      <th>0</th>\n",
       "      <td>6.475</td>\n",
       "      <td>6</td>\n",
       "      <td>62.1</td>\n",
       "      <td>0</td>\n",
       "      <td>0</td>\n",
       "      <td>0</td>\n",
       "    </tr>\n",
       "    <tr>\n",
       "      <th>1</th>\n",
       "      <td>10.125</td>\n",
       "      <td>18</td>\n",
       "      <td>74.7</td>\n",
       "      <td>1</td>\n",
       "      <td>1</td>\n",
       "      <td>0</td>\n",
       "    </tr>\n",
       "    <tr>\n",
       "      <th>2</th>\n",
       "      <td>9.550</td>\n",
       "      <td>16</td>\n",
       "      <td>69.7</td>\n",
       "      <td>0</td>\n",
       "      <td>1</td>\n",
       "      <td>1</td>\n",
       "    </tr>\n",
       "    <tr>\n",
       "      <th>3</th>\n",
       "      <td>11.125</td>\n",
       "      <td>14</td>\n",
       "      <td>71.0</td>\n",
       "      <td>0</td>\n",
       "      <td>0</td>\n",
       "      <td>0</td>\n",
       "    </tr>\n",
       "    <tr>\n",
       "      <th>4</th>\n",
       "      <td>4.800</td>\n",
       "      <td>5</td>\n",
       "      <td>56.9</td>\n",
       "      <td>0</td>\n",
       "      <td>0</td>\n",
       "      <td>0</td>\n",
       "    </tr>\n",
       "  </tbody>\n",
       "</table>\n",
       "</div>"
      ],
      "text/plain": [
       "   LungCap  Age  Height  Smoke  Gender  Caesarean\n",
       "0    6.475    6    62.1      0       0          0\n",
       "1   10.125   18    74.7      1       1          0\n",
       "2    9.550   16    69.7      0       1          1\n",
       "3   11.125   14    71.0      0       0          0\n",
       "4    4.800    5    56.9      0       0          0"
      ]
     },
     "execution_count": 8,
     "metadata": {},
     "output_type": "execute_result"
    }
   ],
   "source": [
    "lcn.head()"
   ]
  },
  {
   "cell_type": "code",
   "execution_count": 9,
   "id": "209b5e26",
   "metadata": {},
   "outputs": [
    {
     "name": "stdout",
     "output_type": "stream",
     "text": [
      "<class 'pandas.core.frame.DataFrame'>\n",
      "RangeIndex: 725 entries, 0 to 724\n",
      "Data columns (total 6 columns):\n",
      " #   Column     Non-Null Count  Dtype  \n",
      "---  ------     --------------  -----  \n",
      " 0   LungCap    725 non-null    float64\n",
      " 1   Age        725 non-null    int64  \n",
      " 2   Height     725 non-null    float64\n",
      " 3   Smoke      725 non-null    int64  \n",
      " 4   Gender     725 non-null    int64  \n",
      " 5   Caesarean  725 non-null    int64  \n",
      "dtypes: float64(2), int64(4)\n",
      "memory usage: 34.1 KB\n"
     ]
    }
   ],
   "source": [
    "lcn.info() #to check int or float"
   ]
  },
  {
   "cell_type": "markdown",
   "id": "ad5da852",
   "metadata": {},
   "source": [
    "# Data Sampling"
   ]
  },
  {
   "cell_type": "code",
   "execution_count": 10,
   "id": "18b89e8e",
   "metadata": {},
   "outputs": [],
   "source": [
    "from sklearn.model_selection import train_test_split"
   ]
  },
  {
   "cell_type": "code",
   "execution_count": 11,
   "id": "75765587",
   "metadata": {},
   "outputs": [],
   "source": [
    "lcn_train , lcn_test = train_test_split(lcn, test_size=.2)"
   ]
  },
  {
   "cell_type": "code",
   "execution_count": 12,
   "id": "3dea2272",
   "metadata": {},
   "outputs": [],
   "source": [
    "lcn_train_x = lcn_train.iloc[: , 1::]\n",
    "lcn_test_x = lcn_test.iloc[: , 1::]"
   ]
  },
  {
   "cell_type": "code",
   "execution_count": 13,
   "id": "ddaaa3d4",
   "metadata": {},
   "outputs": [],
   "source": [
    "lcn_train_y = lcn_train.iloc[: , 0]\n",
    "lcn_test_y = lcn_test.iloc[: , 0]"
   ]
  },
  {
   "cell_type": "code",
   "execution_count": 14,
   "id": "cddd3431",
   "metadata": {},
   "outputs": [],
   "source": [
    "# import necesary fuction from sklearn \n",
    "# create an object of that fucntion \n",
    "# run the fit fucntion and model is created\n",
    "# run the predictionn fuction ( pediction is done)"
   ]
  },
  {
   "cell_type": "markdown",
   "id": "dacab05f",
   "metadata": {},
   "source": [
    "# Buidling the Model using the Linear Regression"
   ]
  },
  {
   "cell_type": "code",
   "execution_count": 15,
   "id": "81ae2357",
   "metadata": {},
   "outputs": [],
   "source": [
    "from sklearn.linear_model import LinearRegression"
   ]
  },
  {
   "cell_type": "code",
   "execution_count": 16,
   "id": "bcf6917d",
   "metadata": {},
   "outputs": [],
   "source": [
    "linreg = LinearRegression() "
   ]
  },
  {
   "cell_type": "code",
   "execution_count": 17,
   "id": "dad6d55c",
   "metadata": {},
   "outputs": [
    {
     "data": {
      "text/html": [
       "<style>#sk-container-id-1 {color: black;background-color: white;}#sk-container-id-1 pre{padding: 0;}#sk-container-id-1 div.sk-toggleable {background-color: white;}#sk-container-id-1 label.sk-toggleable__label {cursor: pointer;display: block;width: 100%;margin-bottom: 0;padding: 0.3em;box-sizing: border-box;text-align: center;}#sk-container-id-1 label.sk-toggleable__label-arrow:before {content: \"▸\";float: left;margin-right: 0.25em;color: #696969;}#sk-container-id-1 label.sk-toggleable__label-arrow:hover:before {color: black;}#sk-container-id-1 div.sk-estimator:hover label.sk-toggleable__label-arrow:before {color: black;}#sk-container-id-1 div.sk-toggleable__content {max-height: 0;max-width: 0;overflow: hidden;text-align: left;background-color: #f0f8ff;}#sk-container-id-1 div.sk-toggleable__content pre {margin: 0.2em;color: black;border-radius: 0.25em;background-color: #f0f8ff;}#sk-container-id-1 input.sk-toggleable__control:checked~div.sk-toggleable__content {max-height: 200px;max-width: 100%;overflow: auto;}#sk-container-id-1 input.sk-toggleable__control:checked~label.sk-toggleable__label-arrow:before {content: \"▾\";}#sk-container-id-1 div.sk-estimator input.sk-toggleable__control:checked~label.sk-toggleable__label {background-color: #d4ebff;}#sk-container-id-1 div.sk-label input.sk-toggleable__control:checked~label.sk-toggleable__label {background-color: #d4ebff;}#sk-container-id-1 input.sk-hidden--visually {border: 0;clip: rect(1px 1px 1px 1px);clip: rect(1px, 1px, 1px, 1px);height: 1px;margin: -1px;overflow: hidden;padding: 0;position: absolute;width: 1px;}#sk-container-id-1 div.sk-estimator {font-family: monospace;background-color: #f0f8ff;border: 1px dotted black;border-radius: 0.25em;box-sizing: border-box;margin-bottom: 0.5em;}#sk-container-id-1 div.sk-estimator:hover {background-color: #d4ebff;}#sk-container-id-1 div.sk-parallel-item::after {content: \"\";width: 100%;border-bottom: 1px solid gray;flex-grow: 1;}#sk-container-id-1 div.sk-label:hover label.sk-toggleable__label {background-color: #d4ebff;}#sk-container-id-1 div.sk-serial::before {content: \"\";position: absolute;border-left: 1px solid gray;box-sizing: border-box;top: 0;bottom: 0;left: 50%;z-index: 0;}#sk-container-id-1 div.sk-serial {display: flex;flex-direction: column;align-items: center;background-color: white;padding-right: 0.2em;padding-left: 0.2em;position: relative;}#sk-container-id-1 div.sk-item {position: relative;z-index: 1;}#sk-container-id-1 div.sk-parallel {display: flex;align-items: stretch;justify-content: center;background-color: white;position: relative;}#sk-container-id-1 div.sk-item::before, #sk-container-id-1 div.sk-parallel-item::before {content: \"\";position: absolute;border-left: 1px solid gray;box-sizing: border-box;top: 0;bottom: 0;left: 50%;z-index: -1;}#sk-container-id-1 div.sk-parallel-item {display: flex;flex-direction: column;z-index: 1;position: relative;background-color: white;}#sk-container-id-1 div.sk-parallel-item:first-child::after {align-self: flex-end;width: 50%;}#sk-container-id-1 div.sk-parallel-item:last-child::after {align-self: flex-start;width: 50%;}#sk-container-id-1 div.sk-parallel-item:only-child::after {width: 0;}#sk-container-id-1 div.sk-dashed-wrapped {border: 1px dashed gray;margin: 0 0.4em 0.5em 0.4em;box-sizing: border-box;padding-bottom: 0.4em;background-color: white;}#sk-container-id-1 div.sk-label label {font-family: monospace;font-weight: bold;display: inline-block;line-height: 1.2em;}#sk-container-id-1 div.sk-label-container {text-align: center;}#sk-container-id-1 div.sk-container {/* jupyter's `normalize.less` sets `[hidden] { display: none; }` but bootstrap.min.css set `[hidden] { display: none !important; }` so we also need the `!important` here to be able to override the default hidden behavior on the sphinx rendered scikit-learn.org. See: https://github.com/scikit-learn/scikit-learn/issues/21755 */display: inline-block !important;position: relative;}#sk-container-id-1 div.sk-text-repr-fallback {display: none;}</style><div id=\"sk-container-id-1\" class=\"sk-top-container\"><div class=\"sk-text-repr-fallback\"><pre>LinearRegression()</pre><b>In a Jupyter environment, please rerun this cell to show the HTML representation or trust the notebook. <br />On GitHub, the HTML representation is unable to render, please try loading this page with nbviewer.org.</b></div><div class=\"sk-container\" hidden><div class=\"sk-item\"><div class=\"sk-estimator sk-toggleable\"><input class=\"sk-toggleable__control sk-hidden--visually\" id=\"sk-estimator-id-1\" type=\"checkbox\" checked><label for=\"sk-estimator-id-1\" class=\"sk-toggleable__label sk-toggleable__label-arrow\">LinearRegression</label><div class=\"sk-toggleable__content\"><pre>LinearRegression()</pre></div></div></div></div></div>"
      ],
      "text/plain": [
       "LinearRegression()"
      ]
     },
     "execution_count": 17,
     "metadata": {},
     "output_type": "execute_result"
    }
   ],
   "source": [
    "linreg.fit( lcn_train_x , lcn_train_y) # model is fitted"
   ]
  },
  {
   "cell_type": "markdown",
   "id": "0eae5bfa",
   "metadata": {},
   "source": [
    "# Rsquare"
   ]
  },
  {
   "cell_type": "code",
   "execution_count": 18,
   "id": "bbf732dc",
   "metadata": {},
   "outputs": [
    {
     "data": {
      "text/plain": [
       "0.8435858813380767"
      ]
     },
     "execution_count": 18,
     "metadata": {},
     "output_type": "execute_result"
    }
   ],
   "source": [
    "rsquare = linreg.score( lcn_train_x , lcn_train_y)\n",
    "rsquare"
   ]
  },
  {
   "cell_type": "markdown",
   "id": "70baf340",
   "metadata": {},
   "source": [
    "# Adjusted Rsquare"
   ]
  },
  {
   "cell_type": "code",
   "execution_count": 19,
   "id": "8c70ad8e",
   "metadata": {},
   "outputs": [
    {
     "data": {
      "text/plain": [
       "580"
      ]
     },
     "execution_count": 19,
     "metadata": {},
     "output_type": "execute_result"
    }
   ],
   "source": [
    "# value of N\n",
    "# in adjusted rqaure formula N is total no of records so here\n",
    "N = lcn_train_x.shape[0] # here 0 is denoted for records\n",
    "N # therefore N is 580"
   ]
  },
  {
   "cell_type": "code",
   "execution_count": 20,
   "id": "d10e9685",
   "metadata": {},
   "outputs": [
    {
     "data": {
      "text/plain": [
       "5"
      ]
     },
     "execution_count": 20,
     "metadata": {},
     "output_type": "execute_result"
    }
   ],
   "source": [
    "# value of K\n",
    "# in adjusted rqaure formula N is total no of Columns so here\n",
    "K = lcn_train_x.shape[1] # here 1 is denoted for columns\n",
    "K"
   ]
  },
  {
   "cell_type": "code",
   "execution_count": 21,
   "id": "6884fd1d",
   "metadata": {},
   "outputs": [
    {
     "data": {
      "text/plain": [
       "0.8422233890152376"
      ]
     },
     "execution_count": 21,
     "metadata": {},
     "output_type": "execute_result"
    }
   ],
   "source": [
    "adj_rsquare = 1 - (1 - rsquare) * ( N- 1) / (N - K - 1)\n",
    "adj_rsquare"
   ]
  },
  {
   "cell_type": "code",
   "execution_count": 22,
   "id": "7c3653c2",
   "metadata": {},
   "outputs": [],
   "source": [
    "# here adjusted Rsquare is close to Rsquare\n",
    "# therefore model seems to be quite good "
   ]
  },
  {
   "cell_type": "code",
   "execution_count": 23,
   "id": "7f545dc2",
   "metadata": {},
   "outputs": [
    {
     "data": {
      "text/plain": [
       "Index(['Age', 'Height', 'Smoke', 'Gender', 'Caesarean'], dtype='object')"
      ]
     },
     "execution_count": 23,
     "metadata": {},
     "output_type": "execute_result"
    }
   ],
   "source": [
    "lcn_train_x.columns # to find how many x variable i have"
   ]
  },
  {
   "cell_type": "code",
   "execution_count": 24,
   "id": "53ff7a6b",
   "metadata": {},
   "outputs": [
    {
     "data": {
      "text/plain": [
       "array([ 0.15773157,  0.25528386, -0.61475202, -0.46193903, -0.20531065])"
      ]
     },
     "execution_count": 24,
     "metadata": {},
     "output_type": "execute_result"
    }
   ],
   "source": [
    "# linreg is my name of the model therefore for finding coefficcient\n",
    "linreg.coef_ # gives value B0 (age) ,B1(smoke) , B2(gender)...\n",
    "# here age , height is positive relation\n",
    "# smoke, gender , Caesarean is negative relation"
   ]
  },
  {
   "cell_type": "code",
   "execution_count": 25,
   "id": "a5c346a3",
   "metadata": {},
   "outputs": [
    {
     "data": {
      "text/plain": [
       "-10.275617334013113"
      ]
     },
     "execution_count": 25,
     "metadata": {},
     "output_type": "execute_result"
    }
   ],
   "source": [
    "linreg.intercept_ # intercept is nothing but the Bo (beta not) there fore intercept will give Bo i.e c in the slope formula"
   ]
  },
  {
   "cell_type": "code",
   "execution_count": 26,
   "id": "0bbeaa88",
   "metadata": {},
   "outputs": [],
   "source": [
    "pred_train = linreg.predict(lcn_train_x)\n",
    "pred_test = linreg.predict(lcn_test_x)"
   ]
  },
  {
   "cell_type": "code",
   "execution_count": 27,
   "id": "1c6aa8cc",
   "metadata": {},
   "outputs": [
    {
     "data": {
      "text/plain": [
       "array([ 8.26173197,  9.74480646,  7.79195251,  6.2240223 ,  6.85310946,\n",
       "        9.18466377, 11.36884931,  4.12879304,  5.25095849,  7.60705399,\n",
       "        7.92737244,  9.76403866,  4.30854137,  8.38018896, 11.45455698,\n",
       "        9.90460878,  5.00131943, 10.8327532 ,  8.21061276,  7.6006536 ,\n",
       "        5.51536486,  4.99219693,  9.63084829,  4.61488201,  3.6754819 ,\n",
       "        3.13318597,  8.17081168,  5.80910529, 10.39634256,  7.0828025 ,\n",
       "        3.06007851, 12.2760266 ,  9.83714612,  9.16221482,  6.51346244,\n",
       "        7.81613639,  2.76879923,  7.90640531,  7.39370439,  9.76617185,\n",
       "       11.52658089,  3.53008957,  7.29779066, 10.73520091,  5.89106973,\n",
       "        7.25693995,  4.40960529,  7.34536974,  5.28774257,  2.6680302 ,\n",
       "        8.92540758, 10.85719803,  5.53042623,  1.29999744,  5.18215132,\n",
       "        8.19426932,  8.00644811,  6.36101835, 12.01162023, 10.52989026,\n",
       "        9.24543198,  8.53335928,  4.79466427,  4.49803507,  7.15482641,\n",
       "        9.85568519,  7.38002063,  6.34005122,  9.87908039,  5.79027134,\n",
       "        7.9644514 ,  9.71967633,  4.97792423,  3.44680997, 10.0577791 ,\n",
       "        8.19634007,  8.19634007,  8.55622798,  6.85518021,  4.17528856,\n",
       "        7.50251238,  3.767884  , 10.11802081, 10.809358  ,  5.19583508,\n",
       "        8.19584544,  4.16344393,  3.66229276,  4.44802793,  7.81856446,\n",
       "        7.06075181,  7.10134156,  5.29853756,  7.14055371,  5.65219174,\n",
       "       12.88414662,  9.14794213, 10.83731445,  8.88452295,  4.69041754,\n",
       "        7.35449224,  5.49305321, 11.481135  ,  7.78119144,  3.25626664,\n",
       "       11.27129702,  2.1515567 , 11.26886895,  6.98282214,  6.05923897,\n",
       "        5.92034135,  5.93615829,  7.0965487 ,  8.16625042, 10.37921045,\n",
       "        3.44680997,  8.10954884,  5.66719067,  3.28635628,  9.94595411,\n",
       "        5.75909815,  6.15009683,  6.00362094,  7.66995539,  5.84132812,\n",
       "        4.588304  ,  3.58114634, 11.24120738,  8.87891206, 12.25049822,\n",
       "        8.95897492, 10.35440829,  8.80337653,  9.27617299,  7.10376963,\n",
       "        5.07790459,  9.13875718,  6.54220757,  9.8444295 ,  5.03147151,\n",
       "        6.20784804, 10.36973062,  9.21078109, 11.99521435,  9.96235999])"
      ]
     },
     "execution_count": 27,
     "metadata": {},
     "output_type": "execute_result"
    }
   ],
   "source": [
    "pred_test \n"
   ]
  },
  {
   "cell_type": "markdown",
   "id": "36033a24",
   "metadata": {},
   "source": [
    "# here question arises how this values has been calculated\n",
    "# taking one value 7.62949921 from up predited data "
   ]
  },
  {
   "cell_type": "code",
   "execution_count": 28,
   "id": "4451b485",
   "metadata": {},
   "outputs": [
    {
     "data": {
      "text/plain": [
       "145"
      ]
     },
     "execution_count": 28,
     "metadata": {},
     "output_type": "execute_result"
    }
   ],
   "source": [
    "len(pred_test)"
   ]
  },
  {
   "cell_type": "code",
   "execution_count": 29,
   "id": "0fb39041",
   "metadata": {},
   "outputs": [
    {
     "data": {
      "text/html": [
       "<div>\n",
       "<style scoped>\n",
       "    .dataframe tbody tr th:only-of-type {\n",
       "        vertical-align: middle;\n",
       "    }\n",
       "\n",
       "    .dataframe tbody tr th {\n",
       "        vertical-align: top;\n",
       "    }\n",
       "\n",
       "    .dataframe thead th {\n",
       "        text-align: right;\n",
       "    }\n",
       "</style>\n",
       "<table border=\"1\" class=\"dataframe\">\n",
       "  <thead>\n",
       "    <tr style=\"text-align: right;\">\n",
       "      <th></th>\n",
       "      <th>Age</th>\n",
       "      <th>Height</th>\n",
       "      <th>Smoke</th>\n",
       "      <th>Gender</th>\n",
       "      <th>Caesarean</th>\n",
       "    </tr>\n",
       "  </thead>\n",
       "  <tbody>\n",
       "    <tr>\n",
       "      <th>411</th>\n",
       "      <td>13</td>\n",
       "      <td>68.8</td>\n",
       "      <td>1</td>\n",
       "      <td>1</td>\n",
       "      <td>0</td>\n",
       "    </tr>\n",
       "  </tbody>\n",
       "</table>\n",
       "</div>"
      ],
      "text/plain": [
       "     Age  Height  Smoke  Gender  Caesarean\n",
       "411   13    68.8      1       1          0"
      ]
     },
     "execution_count": 29,
     "metadata": {},
     "output_type": "execute_result"
    }
   ],
   "source": [
    "lcn_test_x.head(1)"
   ]
  },
  {
   "cell_type": "code",
   "execution_count": 30,
   "id": "d7da5847",
   "metadata": {},
   "outputs": [
    {
     "data": {
      "text/plain": [
       "7.629498921695254"
      ]
     },
     "execution_count": 30,
     "metadata": {},
     "output_type": "execute_result"
    }
   ],
   "source": [
    "# as we know the value of these coeff beta  1 ,2 , 3 , 4 , 5 relation at line no 24 i.e \n",
    "# array([ 0.15092595,  0.27240058, -0.70290372, -0.32741632, -0.24188176])\n",
    "# b0 value -11.353141206304743 from line 25\n",
    "# so know adding the value with the beta not  with multiplication with the data above\n",
    "# i.e y = mx + Bo\n",
    "#\n",
    "#Age\tHeight\tSmoke\tGender\tCaesarean\n",
    "#678\t14\t66.6\t1\t1\t1\n",
    "-11.353141206304743 + 0.15092595*14 + 66.6*0.27240058 + -0.70290372* 1 + -0.32741632*1 + -0.24188176*1\n",
    "# hence proved\n",
    "# after running the fit function the relation betweeen the x and y have been establised this  is how  it is doing the predition"
   ]
  },
  {
   "cell_type": "code",
   "execution_count": 31,
   "id": "784778f0",
   "metadata": {},
   "outputs": [],
   "source": [
    "# what is mathematical modeling = it is nothing but the equation"
   ]
  },
  {
   "cell_type": "code",
   "execution_count": 32,
   "id": "1695a678",
   "metadata": {},
   "outputs": [],
   "source": [
    "# we know y = mx + c therefore Bo is c  \n",
    "# if the value of m and c are know then we can do the prediction\n",
    "\n",
    "# m is 3 , c is 4.5\n",
    "# there fore for prediction we have to just pass the x value"
   ]
  },
  {
   "cell_type": "markdown",
   "id": "644ab45a",
   "metadata": {},
   "source": [
    "# error on the train data\n",
    "error = actual - predict"
   ]
  },
  {
   "cell_type": "code",
   "execution_count": 33,
   "id": "0ef54b2a",
   "metadata": {},
   "outputs": [],
   "source": [
    "#here\n",
    "err_test = lcn_test_y - pred_test"
   ]
  },
  {
   "cell_type": "code",
   "execution_count": 34,
   "id": "816a8073",
   "metadata": {},
   "outputs": [
    {
     "data": {
      "text/plain": [
       "411    0.413268\n",
       "92     0.005194\n",
       "470    0.058047\n",
       "514    0.000978\n",
       "511   -0.153109\n",
       "         ...   \n",
       "393    0.517152\n",
       "479   -0.844731\n",
       "472    1.439219\n",
       "89    -0.420214\n",
       "391    1.362640\n",
       "Name: LungCap, Length: 145, dtype: float64"
      ]
     },
     "execution_count": 34,
     "metadata": {},
     "output_type": "execute_result"
    }
   ],
   "source": [
    "err_test"
   ]
  },
  {
   "cell_type": "code",
   "execution_count": 35,
   "id": "c0df6a91",
   "metadata": {},
   "outputs": [
    {
     "data": {
      "text/plain": [
       "1.1360002427315972"
      ]
     },
     "execution_count": 35,
     "metadata": {},
     "output_type": "execute_result"
    }
   ],
   "source": [
    "# finding mse\n",
    "mse = np.mean(np.square(err_test))\n",
    "mse"
   ]
  },
  {
   "cell_type": "code",
   "execution_count": 36,
   "id": "d37cd3bd",
   "metadata": {},
   "outputs": [
    {
     "data": {
      "text/plain": [
       "1.0658331214273635"
      ]
     },
     "execution_count": 36,
     "metadata": {},
     "output_type": "execute_result"
    }
   ],
   "source": [
    "# finding rmse\n",
    "rmse  = np.sqrt(mse) # it is nothing but the square root of  the rmse\n",
    "rmse"
   ]
  },
  {
   "cell_type": "code",
   "execution_count": 37,
   "id": "d2d5674b",
   "metadata": {},
   "outputs": [
    {
     "data": {
      "text/plain": [
       "17.295491127909873"
      ]
     },
     "execution_count": 37,
     "metadata": {},
     "output_type": "execute_result"
    }
   ],
   "source": [
    "# finding mape\n",
    "\n",
    "mape = np.mean(np.abs(err_test * 100)/ lcn_test_y)\n",
    "mape"
   ]
  },
  {
   "cell_type": "code",
   "execution_count": 38,
   "id": "6a1c7346",
   "metadata": {},
   "outputs": [],
   "source": [
    "# build the linear regression model property price"
   ]
  },
  {
   "cell_type": "code",
   "execution_count": 39,
   "id": "72f6f5b5",
   "metadata": {},
   "outputs": [],
   "source": [
    "# lets check the assumptions\n",
    "# few always do so 1.error term are normmally distributed there is no pattern amongst them \n",
    "# homocedenicity # multicollinearity"
   ]
  },
  {
   "cell_type": "code",
   "execution_count": 40,
   "id": "b4510c6d",
   "metadata": {},
   "outputs": [],
   "source": [
    "err_train = lcn_train_y - pred_train"
   ]
  },
  {
   "cell_type": "code",
   "execution_count": 41,
   "id": "7a6d6414",
   "metadata": {},
   "outputs": [
    {
     "data": {
      "text/plain": [
       "-1.4915272082550378e-15"
      ]
     },
     "execution_count": 41,
     "metadata": {},
     "output_type": "execute_result"
    }
   ],
   "source": [
    "np.mean(err_train) # here we get value close to the zero"
   ]
  },
  {
   "cell_type": "markdown",
   "id": "ed62283d",
   "metadata": {},
   "source": [
    "# Visualizing the Data"
   ]
  },
  {
   "cell_type": "code",
   "execution_count": 42,
   "id": "10b81d34",
   "metadata": {},
   "outputs": [],
   "source": [
    "import matplotlib.pyplot as plt"
   ]
  },
  {
   "cell_type": "code",
   "execution_count": 43,
   "id": "62dcc88e",
   "metadata": {},
   "outputs": [
    {
     "data": {
      "text/plain": [
       "[<matplotlib.lines.Line2D at 0x15fbd20df30>]"
      ]
     },
     "execution_count": 43,
     "metadata": {},
     "output_type": "execute_result"
    },
    {
     "data": {
      "image/png": "[encoded data removed]",
      "text/plain": [
       "<Figure size 432x288 with 1 Axes>"
      ]
     },
     "metadata": {
      "needs_background": "light"
     },
     "output_type": "display_data"
    }
   ],
   "source": [
    "plt.plot(err_train , '*') # here we cannot see any pattern but here may be\n",
    "# few values which may be far away from or less which are outlier so these may create some problem in model building"
   ]
  },
  {
   "cell_type": "code",
   "execution_count": 44,
   "id": "93703808",
   "metadata": {},
   "outputs": [
    {
     "data": {
      "text/plain": [
       "(array([ 1.,  0.,  2., 11.,  6., 30., 30., 48., 67., 56., 70., 70., 60.,\n",
       "        45., 31., 27., 17.,  5.,  1.,  3.]),\n",
       " array([-3.30904724, -2.99458651, -2.68012577, -2.36566504, -2.05120431,\n",
       "        -1.73674358, -1.42228285, -1.10782211, -0.79336138, -0.47890065,\n",
       "        -0.16443992,  0.15002081,  0.46448155,  0.77894228,  1.09340301,\n",
       "         1.40786374,  1.72232447,  2.03678521,  2.35124594,  2.66570667,\n",
       "         2.9801674 ]),\n",
       " <BarContainer object of 20 artists>)"
      ]
     },
     "execution_count": 44,
     "metadata": {},
     "output_type": "execute_result"
    },
    {
     "data": {
      "image/png": "[encoded data removed]",
      "text/plain": [
       "<Figure size 432x288 with 1 Axes>"
      ]
     },
     "metadata": {
      "needs_background": "light"
     },
     "output_type": "display_data"
    }
   ],
   "source": [
    "plt.hist(err_train , bins = 20 , edgecolor = 'g') # there by this histogram it seems to be normal distributed"
   ]
  },
  {
   "cell_type": "code",
   "execution_count": 45,
   "id": "d9fb7e14",
   "metadata": {},
   "outputs": [],
   "source": [
    "pred_actual_df = pd.DataFrame()"
   ]
  },
  {
   "cell_type": "code",
   "execution_count": 46,
   "id": "94e8c2b4",
   "metadata": {},
   "outputs": [],
   "source": [
    "pred_actual_df['Actual'] = lcn_train_y\n",
    "pred_actual_df['Predict'] = pred_train"
   ]
  },
  {
   "cell_type": "code",
   "execution_count": 47,
   "id": "d22b3d9d",
   "metadata": {},
   "outputs": [
    {
     "data": {
      "text/html": [
       "<div>\n",
       "<style scoped>\n",
       "    .dataframe tbody tr th:only-of-type {\n",
       "        vertical-align: middle;\n",
       "    }\n",
       "\n",
       "    .dataframe tbody tr th {\n",
       "        vertical-align: top;\n",
       "    }\n",
       "\n",
       "    .dataframe thead th {\n",
       "        text-align: right;\n",
       "    }\n",
       "</style>\n",
       "<table border=\"1\" class=\"dataframe\">\n",
       "  <thead>\n",
       "    <tr style=\"text-align: right;\">\n",
       "      <th></th>\n",
       "      <th>Actual</th>\n",
       "      <th>Predict</th>\n",
       "    </tr>\n",
       "  </thead>\n",
       "  <tbody>\n",
       "    <tr>\n",
       "      <th>706</th>\n",
       "      <td>9.175</td>\n",
       "      <td>10.241039</td>\n",
       "    </tr>\n",
       "    <tr>\n",
       "      <th>496</th>\n",
       "      <td>8.350</td>\n",
       "      <td>8.116538</td>\n",
       "    </tr>\n",
       "    <tr>\n",
       "      <th>45</th>\n",
       "      <td>6.700</td>\n",
       "      <td>6.978261</td>\n",
       "    </tr>\n",
       "    <tr>\n",
       "      <th>675</th>\n",
       "      <td>12.125</td>\n",
       "      <td>10.122520</td>\n",
       "    </tr>\n",
       "    <tr>\n",
       "      <th>102</th>\n",
       "      <td>3.450</td>\n",
       "      <td>6.041750</td>\n",
       "    </tr>\n",
       "  </tbody>\n",
       "</table>\n",
       "</div>"
      ],
      "text/plain": [
       "     Actual    Predict\n",
       "706   9.175  10.241039\n",
       "496   8.350   8.116538\n",
       "45    6.700   6.978261\n",
       "675  12.125  10.122520\n",
       "102   3.450   6.041750"
      ]
     },
     "execution_count": 47,
     "metadata": {},
     "output_type": "execute_result"
    }
   ],
   "source": [
    "pred_actual_df.head()"
   ]
  },
  {
   "cell_type": "code",
   "execution_count": 48,
   "id": "b8c42aae",
   "metadata": {},
   "outputs": [],
   "source": [
    "import seaborn as sns"
   ]
  },
  {
   "cell_type": "markdown",
   "id": "55547236",
   "metadata": {},
   "source": [
    "# to check homocedenicity"
   ]
  },
  {
   "cell_type": "code",
   "execution_count": 49,
   "id": "633e0bb3",
   "metadata": {},
   "outputs": [
    {
     "data": {
      "text/plain": [
       "<seaborn.axisgrid.JointGrid at 0x15fbd5e68f0>"
      ]
     },
     "execution_count": 49,
     "metadata": {},
     "output_type": "execute_result"
    },
    {
     "data": {
      "image/png": "[encoded data removed]",
      "text/plain": [
       "<Figure size 432x432 with 3 Axes>"
      ]
     },
     "metadata": {
      "needs_background": "light"
     },
     "output_type": "display_data"
    }
   ],
   "source": [
    "sns.jointplot(x = 'Actual' , y = 'Predict',data = pred_actual_df, kind= 'reg') # reg means regression plot\n",
    "# here actual is always on x axis and preditive is on the y axis \n",
    "# becuase prediction is depended on actual and actual is not dependent on anyone"
   ]
  },
  {
   "cell_type": "code",
   "execution_count": 50,
   "id": "587edff9",
   "metadata": {},
   "outputs": [],
   "source": [
    "# code to remove outlier\n",
    "def remove_outlier(df,col,k=2):\n",
    "    mean = df[col].mean()\n",
    "    global df1\n",
    "    sd = df[col].std()\n",
    "    final_list = [x for x in df[col] if (x > mean - k * sd)]\n",
    "    final_list = [x for x in final_list if (x < mean + k * sd)]\n",
    "    df1 = df.loc[df[col].isin(final_list)] ; print(df1.shape)\n",
    "    print(\"Number of outlier removed ==>\" , df.shape[0] - df1.shape[0])"
   ]
  },
  {
   "cell_type": "code",
   "execution_count": 51,
   "id": "264e663a",
   "metadata": {},
   "outputs": [
    {
     "name": "stdout",
     "output_type": "stream",
     "text": [
      "(695, 6)\n",
      "Number of outlier removed ==> 30\n"
     ]
    }
   ],
   "source": [
    "remove_outlier(lcn,'LungCap', k=2)"
   ]
  },
  {
   "cell_type": "code",
   "execution_count": 52,
   "id": "30fa484d",
   "metadata": {},
   "outputs": [
    {
     "data": {
      "text/html": [
       "<div>\n",
       "<style scoped>\n",
       "    .dataframe tbody tr th:only-of-type {\n",
       "        vertical-align: middle;\n",
       "    }\n",
       "\n",
       "    .dataframe tbody tr th {\n",
       "        vertical-align: top;\n",
       "    }\n",
       "\n",
       "    .dataframe thead th {\n",
       "        text-align: right;\n",
       "    }\n",
       "</style>\n",
       "<table border=\"1\" class=\"dataframe\">\n",
       "  <thead>\n",
       "    <tr style=\"text-align: right;\">\n",
       "      <th></th>\n",
       "      <th>LungCap</th>\n",
       "      <th>Age</th>\n",
       "      <th>Height</th>\n",
       "      <th>Smoke</th>\n",
       "      <th>Gender</th>\n",
       "      <th>Caesarean</th>\n",
       "    </tr>\n",
       "  </thead>\n",
       "  <tbody>\n",
       "    <tr>\n",
       "      <th>0</th>\n",
       "      <td>6.475</td>\n",
       "      <td>6</td>\n",
       "      <td>62.1</td>\n",
       "      <td>0</td>\n",
       "      <td>0</td>\n",
       "      <td>0</td>\n",
       "    </tr>\n",
       "    <tr>\n",
       "      <th>1</th>\n",
       "      <td>10.125</td>\n",
       "      <td>18</td>\n",
       "      <td>74.7</td>\n",
       "      <td>1</td>\n",
       "      <td>1</td>\n",
       "      <td>0</td>\n",
       "    </tr>\n",
       "    <tr>\n",
       "      <th>2</th>\n",
       "      <td>9.550</td>\n",
       "      <td>16</td>\n",
       "      <td>69.7</td>\n",
       "      <td>0</td>\n",
       "      <td>1</td>\n",
       "      <td>1</td>\n",
       "    </tr>\n",
       "    <tr>\n",
       "      <th>3</th>\n",
       "      <td>11.125</td>\n",
       "      <td>14</td>\n",
       "      <td>71.0</td>\n",
       "      <td>0</td>\n",
       "      <td>0</td>\n",
       "      <td>0</td>\n",
       "    </tr>\n",
       "    <tr>\n",
       "      <th>4</th>\n",
       "      <td>4.800</td>\n",
       "      <td>5</td>\n",
       "      <td>56.9</td>\n",
       "      <td>0</td>\n",
       "      <td>0</td>\n",
       "      <td>0</td>\n",
       "    </tr>\n",
       "  </tbody>\n",
       "</table>\n",
       "</div>"
      ],
      "text/plain": [
       "   LungCap  Age  Height  Smoke  Gender  Caesarean\n",
       "0    6.475    6    62.1      0       0          0\n",
       "1   10.125   18    74.7      1       1          0\n",
       "2    9.550   16    69.7      0       1          1\n",
       "3   11.125   14    71.0      0       0          0\n",
       "4    4.800    5    56.9      0       0          0"
      ]
     },
     "execution_count": 52,
     "metadata": {},
     "output_type": "execute_result"
    }
   ],
   "source": [
    "lcn.head()"
   ]
  },
  {
   "cell_type": "code",
   "execution_count": null,
   "id": "97aa4798",
   "metadata": {},
   "outputs": [],
   "source": []
  }
 ],
 "metadata": {
  "kernelspec": {
   "display_name": "Python 3 (ipykernel)",
   "language": "python",
   "name": "python3"
  },
  "language_info": {
   "codemirror_mode": {
    "name": "ipython",
    "version": 3
   },
   "file_extension": ".py",
   "mimetype": "text/x-python",
   "name": "python",
   "nbconvert_exporter": "python",
   "pygments_lexer": "ipython3",
   "version": "3.10.5"
  }
 },
 "nbformat": 4,
 "nbformat_minor": 5
}
